{
 "cells": [
  {
   "cell_type": "code",
   "execution_count": 1,
   "metadata": {},
   "outputs": [],
   "source": [
    "import re\n",
    "import pandas as pd\n",
    "from typing import  Literal,List,Any\n",
    "from langchain_core.tools import tool\n",
    "from langgraph.types import Command\n",
    "from langgraph.graph.message import add_messages\n",
    "from typing_extensions import TypedDict, Annotated\n",
    "from langchain_core.prompts.chat import ChatPromptTemplate\n",
    "from langgraph.graph import START, StateGraph,END\n",
    "from langgraph.prebuilt import create_react_agent\n",
    "# from langchain.agents import create_react_agent\n",
    "from pydantic import BaseModel, Field, field_validator\n",
    "from langchain_core.messages import HumanMessage,AIMessage\n",
    "from langchain_openai import ChatOpenAI\n",
    "from dotenv import load_dotenv\n"
   ]
  },
  {
   "cell_type": "code",
   "execution_count": 1,
   "metadata": {},
   "outputs": [],
   "source": [
    "from langchain_ollama import ChatOllama"
   ]
  },
  {
   "cell_type": "code",
   "execution_count": 2,
   "metadata": {},
   "outputs": [],
   "source": [
    "llm = ChatOllama(\n",
    "    model = \"gemma3\")"
   ]
  },
  {
   "cell_type": "code",
   "execution_count": 3,
   "metadata": {},
   "outputs": [],
   "source": [
    "messages = [\n",
    "    (\"system\", \"You are a helpful translator.\"),\n",
    "    (\"human\", \"I love programming.\"),\n",
    "]"
   ]
  },
  {
   "cell_type": "code",
   "execution_count": 5,
   "metadata": {},
   "outputs": [
    {
     "data": {
      "text/plain": [
       "AIMessage(content=\"That’s fantastic! It’s a really rewarding and fascinating field. What kind of programming do you enjoy? Do you have a favorite language or project you're working on? 😊 \\n\\nI’m here to help if you want to talk about it, need a little explanation, or just want to share your enthusiasm!\", additional_kwargs={}, response_metadata={'model': 'gemma3', 'created_at': '2025-04-19T06:06:09.580117Z', 'done': True, 'done_reason': 'stop', 'total_duration': 10985439958, 'load_duration': 8227776708, 'prompt_eval_count': 24, 'prompt_eval_duration': 624571333, 'eval_count': 68, 'eval_duration': 2099963125, 'message': Message(role='assistant', content='', images=None, tool_calls=None)}, id='run-4e6d252e-2a23-4e2a-b722-75e909f00771-0', usage_metadata={'input_tokens': 24, 'output_tokens': 68, 'total_tokens': 92})"
      ]
     },
     "execution_count": 5,
     "metadata": {},
     "output_type": "execute_result"
    }
   ],
   "source": [
    "llm.invoke(messages)"
   ]
  },
  {
   "cell_type": "code",
   "execution_count": null,
   "metadata": {},
   "outputs": [
    {
     "data": {
      "text/plain": [
       "True"
      ]
     },
     "execution_count": 2,
     "metadata": {},
     "output_type": "execute_result"
    }
   ],
   "source": [
    "load_dotenv()"
   ]
  },
  {
   "cell_type": "code",
   "execution_count": null,
   "metadata": {},
   "outputs": [],
   "source": [
    "import os\n",
    "OPENAI_API_KEY=os.getenv(\"OPENAI_API_KEY\")"
   ]
  },
  {
   "cell_type": "code",
   "execution_count": null,
   "metadata": {},
   "outputs": [],
   "source": [
    "llm_model=ChatOpenAI(model=\"gpt-4o\")"
   ]
  },
  {
   "cell_type": "code",
   "execution_count": null,
   "metadata": {},
   "outputs": [],
   "source": [
    "# llm_model.invoke(\"hey what is the capital of india\")"
   ]
  },
  {
   "cell_type": "code",
   "execution_count": null,
   "metadata": {},
   "outputs": [],
   "source": [
    "# from langchain_core.prompts import ChatPromptTemplate\n",
    "# from langchain_ollama.llms import OllamaLLM\n",
    "\n",
    "# template = \"\"\"Question: {question}\n",
    "\n",
    "# Answer: Let's think step by step.\"\"\"\n",
    "\n",
    "# prompt = ChatPromptTemplate.from_template(template)\n",
    "\n",
    "# model = OllamaLLM(model=\"gemma3\")\n",
    "\n",
    "# chain = prompt | model\n",
    "\n",
    "# chain.invoke({\"question\": \"What is LangChain?\"})"
   ]
  },
  {
   "cell_type": "code",
   "execution_count": null,
   "metadata": {},
   "outputs": [],
   "source": [
    "class DateTimeModel(BaseModel):\n",
    "    date: str = Field(description=\" date format for reservation of appointment\", pattern=r'^\\d{2}-\\d{2}-\\d{4} \\d{2}:\\d{2}$')\n",
    "\n",
    "    @field_validator(\"date\")\n",
    "    def check_format_date(cls, date_time_value):\n",
    "        if not re.match(r'^\\d{2}-\\d{2}-\\d{4} \\d{2}:\\d{2}$', date_time_value):  # Ensures 'DD-MM-YYYY HH:MM' format\n",
    "            raise ValueError(\"The date should be in format 'DD-MM-YYYY HH:MM'\")\n",
    "        return date_time_value"
   ]
  },
  {
   "cell_type": "code",
   "execution_count": null,
   "metadata": {},
   "outputs": [],
   "source": [
    "class DateModel(BaseModel):\n",
    "    date: str = Field(description=\"Properly formatted date\", pattern=r'^\\d{2}-\\d{2}-\\d{4}$')\n",
    "\n",
    "    @field_validator(\"date\")\n",
    "    def check_format_date(cls, date_value):\n",
    "        if not re.match(r'^\\d{2}-\\d{2}-\\d{4}$', date_value):  # Ensures DD-MM-YYYY format\n",
    "            raise ValueError(\"The date must be in the format 'DD-MM-YYYY'\")\n",
    "        return date_value"
   ]
  },
  {
   "cell_type": "code",
   "execution_count": null,
   "metadata": {},
   "outputs": [],
   "source": [
    "class IdentificationNumberModel(BaseModel):\n",
    "    id: int = Field(description=\"Identification number (7 or 8 digits long)\")\n",
    "    @field_validator(\"id\")\n",
    "    def check_format_id(cls, id_number):\n",
    "        if not re.match(r'^\\d{7,8}$', str(id_number)):  # Convert to string before matching\n",
    "            raise ValueError(\"The ID number should be a 7 or 8-digit number\")\n",
    "        return id_number"
   ]
  },
  {
   "cell_type": "code",
   "execution_count": null,
   "metadata": {},
   "outputs": [],
   "source": [
    "@tool\n",
    "def check_availability_by_doctor(desired_date:DateModel, \n",
    "                                 doctor_name:Literal['kevin anderson','robert martinez','susan davis','daniel miller',\\\n",
    "                                                     'sarah wilson','michael green','lisa brown','jane smith',\\\n",
    "                                                        'emily johnson','john doe']):\n",
    "    \"\"\"\n",
    "    Checking the database if we have availability for the specific doctor.\n",
    "    The parameters should be mentioned by the user in the query\n",
    "    \"\"\"\n",
    "    df = pd.read_csv(r\"../data/doctor_availability.csv\")\n",
    "    \n",
    "    #print(df)\n",
    "    \n",
    "    df['date_slot_time'] = df['date_slot'].apply(lambda input: input.split(' ')[-1])\n",
    "    \n",
    "    rows = list(df[(df['date_slot'].apply(lambda input: input.split(' ')[0]) == desired_date.date)&(df['doctor_name'] == doctor_name)&(df['is_available'] == True)]['date_slot_time'])\n",
    "\n",
    "    if len(rows) == 0:\n",
    "        output = \"No availability in the entire day\"\n",
    "    else:\n",
    "        output = f'This availability for {desired_date.date}\\n'\n",
    "        output += \"Available slots: \" + ', '.join(rows)\n",
    "\n",
    "    return output"
   ]
  },
  {
   "cell_type": "code",
   "execution_count": null,
   "metadata": {},
   "outputs": [
    {
     "name": "stdout",
     "output_type": "stream",
     "text": [
      "date='03-09-2024'\n"
     ]
    }
   ],
   "source": [
    "# Example usage:\n",
    "date_instance = DateModel(date=\"03-09-2024\")\n",
    "print(date_instance)"
   ]
  },
  {
   "cell_type": "code",
   "execution_count": null,
   "metadata": {},
   "outputs": [
    {
     "name": "stdout",
     "output_type": "stream",
     "text": [
      "This availability for 03-09-2024\n",
      "Available slots: 08:00, 08:30, 11:30, 12:00, 12:30, 13:00, 14:00, 14:30, 15:00, 15:30, 16:00, 16:30\n"
     ]
    }
   ],
   "source": [
    "print(check_availability_by_doctor.invoke({\"desired_date\": date_instance, \"doctor_name\": \"kevin anderson\"}))"
   ]
  },
  {
   "cell_type": "code",
   "execution_count": null,
   "metadata": {},
   "outputs": [],
   "source": [
    "@tool\n",
    "def check_availability_by_specialization(desired_date:DateModel,\n",
    "                                          specialization:Literal[\"general_dentist\", \"cosmetic_dentist\", \"prosthodontist\",\\\n",
    "                                                                                         \"pediatric_dentist\",\"emergency_dentist\",\"oral_surgeon\",\"orthodontist\"]):\n",
    "    \"\"\"\n",
    "    Checking the database if we have availability for the specific specialization.\n",
    "    The parameters should be mentioned by the user in the query\n",
    "    \"\"\"\n",
    "    #Dummy data\n",
    "    df = pd.read_csv(r\"../data/doctor_availability.csv\")\n",
    "    df['date_slot_time'] = df['date_slot'].apply(lambda input: input.split(' ')[-1])\n",
    "    rows = df[(df['date_slot'].apply(lambda input: input.split(' ')[0]) == desired_date.date) & (df['specialization'] == specialization) & (df['is_available'] == True)].groupby(['specialization', 'doctor_name'])['date_slot_time'].apply(list).reset_index(name='available_slots')\n",
    "\n",
    "    if len(rows) == 0:\n",
    "        output = \"No availability in the entire day\"\n",
    "    else:\n",
    "        def convert_to_am_pm(time_str):\n",
    "            # Split the time string into hours and minutes\n",
    "            time_str = str(time_str)\n",
    "            hours, minutes = map(int, time_str.split(\":\"))\n",
    "            \n",
    "            # Determine AM or PM\n",
    "            period = \"AM\" if hours < 12 else \"PM\"\n",
    "            \n",
    "            # Convert hours to 12-hour format\n",
    "            hours = hours % 12 or 12\n",
    "            \n",
    "            # Format the output\n",
    "            return f\"{hours}:{minutes:02d} {period}\"\n",
    "        output = f'This availability for {desired_date.date}\\n'\n",
    "        for row in rows.values:\n",
    "            output += row[1] + \". Available slots: \\n\" + ', \\n'.join([convert_to_am_pm(value)for value in row[2]])+'\\n'\n",
    "\n",
    "    return output"
   ]
  },
  {
   "cell_type": "code",
   "execution_count": null,
   "metadata": {},
   "outputs": [
    {
     "name": "stdout",
     "output_type": "stream",
     "text": [
      "date='03-09-2024'\n"
     ]
    }
   ],
   "source": [
    "# Example usage:\n",
    "date_instance = DateModel(date=\"03-09-2024\")\n",
    "print(date_instance)"
   ]
  },
  {
   "cell_type": "code",
   "execution_count": null,
   "metadata": {},
   "outputs": [
    {
     "name": "stdout",
     "output_type": "stream",
     "text": [
      "This availability for 03-09-2024\n",
      "kevin anderson. Available slots: \n",
      "8:00 AM, \n",
      "8:30 AM, \n",
      "11:30 AM, \n",
      "12:00 PM, \n",
      "12:30 PM, \n",
      "1:00 PM, \n",
      "2:00 PM, \n",
      "2:30 PM, \n",
      "3:00 PM, \n",
      "3:30 PM, \n",
      "4:00 PM, \n",
      "4:30 PM\n",
      "\n"
     ]
    }
   ],
   "source": [
    "print(check_availability_by_specialization.invoke({\"desired_date\": date_instance, \"specialization\": \"orthodontist\"}))"
   ]
  },
  {
   "cell_type": "code",
   "execution_count": null,
   "metadata": {},
   "outputs": [],
   "source": [
    "@tool\n",
    "def set_appointment(desired_date:DateTimeModel,\n",
    "                    id_number:IdentificationNumberModel, \n",
    "                    doctor_name:Literal['kevin anderson','robert martinez','susan davis',\n",
    "                                        'daniel miller','sarah wilson','michael green','lisa brown',\n",
    "                                        'jane smith','emily johnson','john doe']):\n",
    "    \"\"\"\n",
    "    Set appointment or slot with the doctor.\n",
    "    The parameters MUST be mentioned by the user in the query.\n",
    "    \"\"\"\n",
    "    df = pd.read_csv(r\"../data/doctor_availability.csv\")\n",
    "   \n",
    "    from datetime import datetime\n",
    "    def convert_datetime_format(dt_str):\n",
    "        # Parse the input datetime string\n",
    "        #dt = datetime.strptime(dt_str, \"%Y-%m-%d %H:%M\")\n",
    "        dt = datetime.strptime(dt_str, \"%d-%m-%Y %H:%M\")\n",
    "        \n",
    "        # Format the output as 'DD-MM-YYYY H.M' (removing leading zero from hour only)\n",
    "        return dt.strftime(\"%d-%m-%Y %#H.%M\")\n",
    "    \n",
    "    case = df[(df['date_slot'] == convert_datetime_format(desired_date.date))&(df['doctor_name'] == doctor_name)&(df['is_available'] == True)]\n",
    "    if len(case) == 0:\n",
    "        return \"No available appointments for that particular case\"\n",
    "    else:\n",
    "        df.loc[(df['date_slot'] == convert_datetime_format(desired_date.date))&(df['doctor_name'] == doctor_name) & (df['is_available'] == True), ['is_available','patient_to_attend']] = [False, id_number.id]\n",
    "        df.to_csv(f\"../data/doctor_availability.csv\", index = False)\n",
    "\n",
    "        return \"Succesfully done\""
   ]
  },
  {
   "cell_type": "code",
   "execution_count": null,
   "metadata": {},
   "outputs": [
    {
     "data": {
      "text/plain": [
       "DateTimeModel(date='07-08-2024 08:30')"
      ]
     },
     "execution_count": 17,
     "metadata": {},
     "output_type": "execute_result"
    }
   ],
   "source": [
    "Date = DateTimeModel(date=\"07-08-2024 08:30\")\n",
    "Date"
   ]
  },
  {
   "cell_type": "code",
   "execution_count": null,
   "metadata": {},
   "outputs": [
    {
     "data": {
      "text/plain": [
       "IdentificationNumberModel(id=1000097)"
      ]
     },
     "execution_count": 18,
     "metadata": {},
     "output_type": "execute_result"
    }
   ],
   "source": [
    "IDNumber = IdentificationNumberModel(id=1000097)\n",
    "IDNumber"
   ]
  },
  {
   "cell_type": "code",
   "execution_count": null,
   "metadata": {},
   "outputs": [
    {
     "name": "stdout",
     "output_type": "stream",
     "text": [
      "No available appointments for that particular case\n"
     ]
    }
   ],
   "source": [
    "print(set_appointment.invoke({\"desired_date\":Date,\"id_number\":IDNumber,\"doctor_name\":\"john doe\"}))"
   ]
  },
  {
   "cell_type": "code",
   "execution_count": null,
   "metadata": {},
   "outputs": [],
   "source": [
    "@tool\n",
    "def cancel_appointment(date:DateTimeModel, id_number:IdentificationNumberModel, doctor_name:Literal['kevin anderson','robert martinez','susan davis','daniel miller','sarah wilson','michael green','lisa brown','jane smith','emily johnson','john doe']):\n",
    "    \"\"\"\n",
    "    Canceling an appointment.\n",
    "    The parameters MUST be mentioned by the user in the query.\n",
    "    \"\"\"\n",
    "    df = pd.read_csv(r\"../data/doctor_availability.csv\")\n",
    "    case_to_remove = df[(df['date_slot'] == date.date)&(df['patient_to_attend'] == id_number.id)&(df['doctor_name'] == doctor_name)]\n",
    "    if len(case_to_remove) == 0:\n",
    "        return \"You don´t have any appointment with that specifications\"\n",
    "    else:\n",
    "        df.loc[(df['date_slot'] == date.date) & (df['patient_to_attend'] == id_number.id) & (df['doctor_name'] == doctor_name), ['is_available', 'patient_to_attend']] = [True, None]\n",
    "        df.to_csv(f\"../data/doctor_availability.csv\", index = False)\n",
    "\n",
    "        return \"Successfully cancelled\""
   ]
  },
  {
   "cell_type": "code",
   "execution_count": null,
   "metadata": {},
   "outputs": [
    {
     "data": {
      "text/plain": [
       "DateTimeModel(date='07-08-2024 08:30')"
      ]
     },
     "execution_count": 21,
     "metadata": {},
     "output_type": "execute_result"
    }
   ],
   "source": [
    "Date = DateTimeModel(date=\"07-08-2024 08:30\")\n",
    "Date"
   ]
  },
  {
   "cell_type": "code",
   "execution_count": null,
   "metadata": {},
   "outputs": [
    {
     "data": {
      "text/plain": [
       "IdentificationNumberModel(id=1000097)"
      ]
     },
     "execution_count": 22,
     "metadata": {},
     "output_type": "execute_result"
    }
   ],
   "source": [
    "IDNumber = IdentificationNumberModel(id=1000097)\n",
    "IDNumber"
   ]
  },
  {
   "cell_type": "code",
   "execution_count": null,
   "metadata": {},
   "outputs": [
    {
     "name": "stdout",
     "output_type": "stream",
     "text": [
      "You don´t have any appointment with that specifications\n"
     ]
    }
   ],
   "source": [
    "print(cancel_appointment.invoke({\"date\": Date,\"id_number\":IDNumber,\"doctor_name\":\"john doe\"}))"
   ]
  },
  {
   "cell_type": "code",
   "execution_count": null,
   "metadata": {},
   "outputs": [],
   "source": [
    "## Tools For Booking agent\n",
    "@tool\n",
    "def reschedule_appointment(old_date:DateTimeModel, new_date:DateTimeModel, id_number:IdentificationNumberModel, \n",
    "                           doctor_name:Literal['kevin anderson','robert martinez','susan davis','daniel miller','sarah wilson','michael green','lisa brown','jane smith','emily johnson','john doe']):\n",
    "    \"\"\"\n",
    "    Rescheduling an appointment.\n",
    "    The parameters MUST be mentioned by the user in the query.\n",
    "    \"\"\"\n",
    "    #Dummy data\n",
    "    df = pd.read_csv(r\"../data/doctor_availability.csv\")\n",
    "    available_for_desired_date = df[(df['date_slot'] == new_date.date)&(df['is_available'] == True)&(df['doctor_name'] == doctor_name)]\n",
    "    if len(available_for_desired_date) == 0:\n",
    "        return \"Not available slots in the desired period\"\n",
    "    else:\n",
    "        cancel_appointment.invoke({'date':old_date, 'id_number':id_number, 'doctor_name':doctor_name})\n",
    "        set_appointment.invoke({'desired_date':new_date, 'id_number': id_number, 'doctor_name': doctor_name})\n",
    "        return \"Successfully rescheduled for the desired time\""
   ]
  },
  {
   "cell_type": "code",
   "execution_count": null,
   "metadata": {},
   "outputs": [
    {
     "data": {
      "text/plain": [
       "DateTimeModel(date='05-08-2024 08:30')"
      ]
     },
     "execution_count": 25,
     "metadata": {},
     "output_type": "execute_result"
    }
   ],
   "source": [
    "Old_Date_Time = DateTimeModel(date=\"05-08-2024 08:30\")\n",
    "Old_Date_Time"
   ]
  },
  {
   "cell_type": "code",
   "execution_count": null,
   "metadata": {},
   "outputs": [
    {
     "data": {
      "text/plain": [
       "DateTimeModel(date='28-03-2024 14:30')"
      ]
     },
     "execution_count": 26,
     "metadata": {},
     "output_type": "execute_result"
    }
   ],
   "source": [
    "New_Date_Time = DateTimeModel(date=\"28-03-2024 14:30\")\n",
    "New_Date_Time"
   ]
  },
  {
   "cell_type": "code",
   "execution_count": null,
   "metadata": {},
   "outputs": [
    {
     "data": {
      "text/plain": [
       "IdentificationNumberModel(id=1000082)"
      ]
     },
     "execution_count": 27,
     "metadata": {},
     "output_type": "execute_result"
    }
   ],
   "source": [
    "IDNumber = IdentificationNumberModel(id=1000082)\n",
    "IDNumber"
   ]
  },
  {
   "cell_type": "code",
   "execution_count": null,
   "metadata": {},
   "outputs": [
    {
     "name": "stdout",
     "output_type": "stream",
     "text": [
      "Not available slots in the desired period\n"
     ]
    }
   ],
   "source": [
    "print(reschedule_appointment.invoke({\"old_date\": Old_Date_Time,\"new_date\": New_Date_Time,\"id_number\":IDNumber, \"doctor_name\": \"kevin anderson\"}))"
   ]
  },
  {
   "cell_type": "code",
   "execution_count": null,
   "metadata": {},
   "outputs": [],
   "source": [
    "class Router(TypedDict):\n",
    "    next: Literal[\"information_node\",\"booking_node\",\"FINISH\"]\n",
    "    reasoning: str"
   ]
  },
  {
   "cell_type": "code",
   "execution_count": null,
   "metadata": {},
   "outputs": [],
   "source": [
    "class AgentState(TypedDict):\n",
    "    messages: Annotated[list[Any], add_messages]\n",
    "    id_number: int\n",
    "    next:str\n",
    "    query: str\n",
    "    current_reasoning: str"
   ]
  },
  {
   "cell_type": "code",
   "execution_count": null,
   "metadata": {},
   "outputs": [],
   "source": [
    "members_dict = {'information_node':'specialized agent to provide information related to availability of doctors or any FAQs related to hospital.',\n",
    "                'booking_node':'specialized agent to only to book, cancel or reschedule appointment'}"
   ]
  },
  {
   "cell_type": "code",
   "execution_count": null,
   "metadata": {},
   "outputs": [],
   "source": [
    "options = list(members_dict.keys()) + [\"FINISH\"]"
   ]
  },
  {
   "cell_type": "code",
   "execution_count": null,
   "metadata": {},
   "outputs": [],
   "source": [
    "worker_info = '\\n\\n'.join([f'WORKER: {member} \\nDESCRIPTION: {description}' for member, description in members_dict.items()]) + \\\n",
    "      '\\n\\nWORKER: FINISH \\nDESCRIPTION: If User Query is answered and route to Finished'"
   ]
  },
  {
   "cell_type": "code",
   "execution_count": null,
   "metadata": {},
   "outputs": [],
   "source": [
    "system_prompt = (\n",
    "    \"You are a supervisor tasked with managing a conversation between following workers. \"\n",
    "    \"### SPECIALIZED ASSISTANT:\\n\"\n",
    "    f\"{worker_info}\\n\\n\"\n",
    "    \"Your primary role is to help the user make an appointment with the doctor and provide updates on FAQs and doctor's availability. \"\n",
    "    \"If a customer requests to know the availability of a doctor or to book, reschedule, or cancel an appointment, \"\n",
    "    \"delegate the task to the appropriate specialized workers. Given the following user request,\"\n",
    "    \" respond with the worker to act next. Each worker will perform a\"\n",
    "    \" task and respond with their results and status. When finished,\"\n",
    "    \" respond with FINISH.\"\n",
    "    \"UTILIZE last conversation to assess if the conversation should end you answered the query, then route to FINISH \"\n",
    "     )"
   ]
  },
  {
   "cell_type": "code",
   "execution_count": null,
   "metadata": {},
   "outputs": [],
   "source": [
    "state  = AgentState"
   ]
  },
  {
   "cell_type": "code",
   "execution_count": null,
   "metadata": {},
   "outputs": [],
   "source": [
    "messages = [{\"role\": \"system\", \"content\": system_prompt},\n",
    "            {\"role\": \"user\", \"content\": f\"user's identification number is {state['id_number']}\"},]"
   ]
  },
  {
   "cell_type": "code",
   "execution_count": 7,
   "metadata": {},
   "outputs": [],
   "source": [
    "import dask.dataframe as dd"
   ]
  },
  {
   "cell_type": "code",
   "execution_count": 8,
   "metadata": {},
   "outputs": [],
   "source": [
    "df = dd.read_csv(r\"../data/doctor_availability.csv\")"
   ]
  },
  {
   "cell_type": "code",
   "execution_count": null,
   "metadata": {},
   "outputs": [
    {
     "data": {
      "text/html": [
       "<div>\n",
       "<style scoped>\n",
       "    .dataframe tbody tr th:only-of-type {\n",
       "        vertical-align: middle;\n",
       "    }\n",
       "\n",
       "    .dataframe tbody tr th {\n",
       "        vertical-align: top;\n",
       "    }\n",
       "\n",
       "    .dataframe thead th {\n",
       "        text-align: right;\n",
       "    }\n",
       "</style>\n",
       "<table border=\"1\" class=\"dataframe\">\n",
       "  <thead>\n",
       "    <tr style=\"text-align: right;\">\n",
       "      <th></th>\n",
       "      <th>date_slot</th>\n",
       "      <th>specialization</th>\n",
       "      <th>doctor_name</th>\n",
       "      <th>is_available</th>\n",
       "      <th>patient_to_attend</th>\n",
       "      <th>date_slot_time</th>\n",
       "    </tr>\n",
       "  </thead>\n",
       "  <tbody>\n",
       "    <tr>\n",
       "      <th>0</th>\n",
       "      <td>05-08-2024 08:00</td>\n",
       "      <td>general_dentist</td>\n",
       "      <td>john doe</td>\n",
       "      <td>True</td>\n",
       "      <td>NaN</td>\n",
       "      <td>08:00</td>\n",
       "    </tr>\n",
       "    <tr>\n",
       "      <th>1</th>\n",
       "      <td>05-08-2024 08:30</td>\n",
       "      <td>general_dentist</td>\n",
       "      <td>john doe</td>\n",
       "      <td>False</td>\n",
       "      <td>1000082.0</td>\n",
       "      <td>08:30</td>\n",
       "    </tr>\n",
       "    <tr>\n",
       "      <th>2</th>\n",
       "      <td>05-08-2024 09:00</td>\n",
       "      <td>general_dentist</td>\n",
       "      <td>john doe</td>\n",
       "      <td>False</td>\n",
       "      <td>1000048.0</td>\n",
       "      <td>09:00</td>\n",
       "    </tr>\n",
       "    <tr>\n",
       "      <th>3</th>\n",
       "      <td>05-08-2024 09:30</td>\n",
       "      <td>general_dentist</td>\n",
       "      <td>john doe</td>\n",
       "      <td>False</td>\n",
       "      <td>1000036.0</td>\n",
       "      <td>09:30</td>\n",
       "    </tr>\n",
       "    <tr>\n",
       "      <th>4</th>\n",
       "      <td>05-08-2024 10:00</td>\n",
       "      <td>general_dentist</td>\n",
       "      <td>john doe</td>\n",
       "      <td>False</td>\n",
       "      <td>1000024.0</td>\n",
       "      <td>10:00</td>\n",
       "    </tr>\n",
       "  </tbody>\n",
       "</table>\n",
       "</div>"
      ],
      "text/plain": [
       "          date_slot   specialization doctor_name  is_available  \\\n",
       "0  05-08-2024 08:00  general_dentist    john doe          True   \n",
       "1  05-08-2024 08:30  general_dentist    john doe         False   \n",
       "2  05-08-2024 09:00  general_dentist    john doe         False   \n",
       "3  05-08-2024 09:30  general_dentist    john doe         False   \n",
       "4  05-08-2024 10:00  general_dentist    john doe         False   \n",
       "\n",
       "   patient_to_attend date_slot_time  \n",
       "0                NaN          08:00  \n",
       "1          1000082.0          08:30  \n",
       "2          1000048.0          09:00  \n",
       "3          1000036.0          09:30  \n",
       "4          1000024.0          10:00  "
      ]
     },
     "execution_count": 10,
     "metadata": {},
     "output_type": "execute_result"
    }
   ],
   "source": []
  },
  {
   "cell_type": "code",
   "execution_count": null,
   "metadata": {},
   "outputs": [],
   "source": [
    "# def supervisor_node(state:AgentState) -> Command[Literal['information_node', 'booking_node', '__end__']]:\n",
    "    \n",
    "#     print(\"Below is the state after kickstarting of agent\",state)\n",
    "    \n",
    "#     messages = [\n",
    "#         {\"role\": \"system\", \"content\": system_prompt},\n",
    "#         {\"role\": \"user\", \"content\": f\"user's identification number is {state['id_number']}\"},\n",
    "#     ] + state[\"messages\"]\n",
    "    \n",
    "    \n",
    "#     print(\"this is a new message\",messages)\n",
    "    \n",
    "#     # query = state['messages'][-1].content if state[\"messages\"] else \"\"\n",
    "#     query = ''\n",
    "#     if len(state['messages']) == 1:\n",
    "#         query = state['messages'][0].content\n",
    "      \n",
    "    \n",
    "#     print(\"This is a new query\",query)\n",
    "    \n",
    "#     response = llm_model.with_structured_output(Router).invoke(messages)\n",
    "    \n",
    "#     goto = response[\"next\"]\n",
    "    \n",
    "    \n",
    "#     print(\"the task for next actions\",goto)\n",
    "    \n",
    "    \n",
    "#     print(response[\"this is reasoning action\"])\n",
    "          \n",
    "#     if goto == \"FINISH\":\n",
    "#         goto = END\n",
    "        \n",
    "\n",
    "#     print(\"this is task state\",state)\n",
    "    \n",
    "#     if query:\n",
    "#         return Command(goto=goto, update={'next': goto, \n",
    "#                                           'query': query, \n",
    "#                                           'current_reasoning': response[\"reasoning\"],\n",
    "#                                           'messages': [HumanMessage(content=f\"user's identification number is {state['id_number']}\")]\n",
    "#                         })\n",
    "#     return Command(goto=goto, update={'next': goto, \n",
    "#                                       'current_reasoning': response[\"reasoning\"]}\n",
    "#                    )\n",
    "\n",
    "\n",
    "\n",
    "\n",
    "\n",
    "\n",
    "def supervisor_node(state:AgentState) -> Command[Literal['information_node', 'booking_node', '__end__']]:\n",
    "    print(\"**************************below is my state right after entering****************************\")\n",
    "    print(state)\n",
    "    \n",
    "    messages = [\n",
    "        {\"role\": \"system\", \"content\": system_prompt},\n",
    "        {\"role\": \"user\", \"content\": f\"user's identification number is {state['id_number']}\"},\n",
    "    ] + state[\"messages\"]\n",
    "    \n",
    "    print(\"***********************this is my message*****************************************\")\n",
    "    print(messages)\n",
    "    \n",
    "    # query = state['messages'][-1].content if state[\"messages\"] else \"\"\n",
    "    query = ''\n",
    "    if len(state['messages']) == 1:\n",
    "        query = state['messages'][0].content\n",
    "      \n",
    "    print(\"************below is my query********************\")    \n",
    "    print(query)\n",
    "    \n",
    "    response = llm_model.with_structured_output(Router).invoke(messages)\n",
    "    \n",
    "    goto = response[\"next\"]\n",
    "    \n",
    "    print(\"********************************this is my goto*************************\")\n",
    "    print(goto)\n",
    "    \n",
    "    print(\"********************************\")\n",
    "    print(response[\"reasoning\"])\n",
    "          \n",
    "    if goto == \"FINISH\":\n",
    "        goto = END\n",
    "        \n",
    "    print(\"**************************below is my state****************************\")\n",
    "    print(state)\n",
    "    \n",
    "    if query:\n",
    "        return Command(goto=goto, update={'next': goto, \n",
    "                                          'query': query, \n",
    "                                          'current_reasoning': response[\"reasoning\"],\n",
    "                                          'messages': [HumanMessage(content=f\"user's identification number is {state['id_number']}\")]\n",
    "                        })\n",
    "    return Command(goto=goto, update={'next': goto, \n",
    "                                      'current_reasoning': response[\"reasoning\"]}\n",
    "                   )\n",
    "\n",
    "\n"
   ]
  },
  {
   "cell_type": "code",
   "execution_count": null,
   "metadata": {},
   "outputs": [],
   "source": [
    "# def information_node(state:AgentState) -> Command[Literal['supervisor']]:\n",
    "\n",
    "\n",
    "#     system_prompt_template = \"You are specialised agent to provide information related to availablity of doctors or any any FAQs related to hospital based on the query.\\\n",
    "#           You have access to the tool.\\n  Make sure to ask user politely if you need any further information to execute the tool.\\\n",
    "#             \\n For your information, Always consider current year is 2024\"\n",
    "    \n",
    "\n",
    "#     system_prompt = ChatPromptTemplate.from_messages(\n",
    "#         [\n",
    "#             (\n",
    "#                 \"system\", system_prompt_template\n",
    "#             ),\n",
    "#             (\n",
    "#                 \"human message\",\"{messages}\"\n",
    "#             )\n",
    "#         ]\n",
    "#     )\n",
    "\n",
    "#     information_agent =  create_react_agent(model=llm_model,tools=[check_availability_by_specialization,\n",
    "#                                                                check_availability_by_specialization],\n",
    "#                                                                prompt=system_prompt)\n",
    "    \n",
    "#     result = information_agent.invoke(state)\n",
    "\n",
    "#     return Command(\n",
    "#         update={\n",
    "#             \"messages\":state[\"messages\"] + [\n",
    "#                 AIMessage(content=result[\"messages\"][-1].content,\n",
    "#                           name=\"information_node\")\n",
    "#             ]\n",
    "#         },goto=\"supervisor\"\n",
    "#     )\n",
    "\n",
    "\n",
    "\n",
    "def information_node(state:AgentState) -> Command[Literal['supervisor']]:\n",
    "    print(\"*****************called information node************\")\n",
    "    try:\n",
    "        system_prompt = \"You are specialized agent to provide information related to availability of doctors or any FAQs related to hospital based on the query. You have access to the tool.\\n Make sure to ask user politely if you need any further information to execute the tool.\\n For your information, Always consider current year is 2024.\"\n",
    "        \n",
    "        system_prompt = ChatPromptTemplate.from_messages(\n",
    "                [\n",
    "                    (\n",
    "                        \"system\",\n",
    "                        system_prompt\n",
    "                    ),\n",
    "                    (\n",
    "                        \"placeholder\", \n",
    "                        \"{messages}\"\n",
    "                    ),\n",
    "                ]\n",
    "            )\n",
    "        \n",
    "        information_agent = create_react_agent(model = llm_model,\n",
    "                                            tools=[check_availability_by_doctor,\n",
    "                                                    check_availability_by_specialization] ,prompt=system_prompt)\n",
    "        \n",
    "        result = information_agent.invoke(state)\n",
    "        \n",
    "        return Command(\n",
    "            update={\n",
    "                \"messages\": state[\"messages\"] + [\n",
    "                    AIMessage(content=result[\"messages\"][-1].content, name=\"information_node\")\n",
    "                ]\n",
    "            },\n",
    "            goto=\"supervisor\",\n",
    "        )\n",
    "    except Exception as e:\n",
    "        print(e)\n",
    "\n"
   ]
  },
  {
   "cell_type": "code",
   "execution_count": null,
   "metadata": {},
   "outputs": [],
   "source": [
    "def booking_node(state:AgentState)->Command[Literal['supervisor']] :\n",
    "    system_prompt_template = \"You are specialized agent to set, cancel or reschedule appointment based on the query. You have access to the tool.\\n Make sure to ask user politely if you need any further information to execute the tool.\\n For your information, Always consider current year is 2024.\"\n",
    "    \n",
    "    system_prompt = ChatPromptTemplate.from_messages(\n",
    "            [\n",
    "                (\n",
    "                    \"system\",\n",
    "                    system_prompt_template\n",
    "                ),\n",
    "                (\n",
    "                        \"placeholder\", \n",
    "                        \"{messages}\"\n",
    "                ),\n",
    "            ]\n",
    "        )\n",
    "    booking_agent = create_react_agent(model=llm_model,tools=[set_appointment,cancel_appointment,reschedule_appointment],prompt=system_prompt)\n",
    "\n",
    "    result = booking_agent.invoke(state)\n",
    "    \n",
    "    return Command(\n",
    "        update={\n",
    "            \"messages\": state[\"messages\"] + [\n",
    "                AIMessage(content=result[\"messages\"][-1].content, name=\"booking_node\")\n",
    "            ]\n",
    "        },\n",
    "        goto=\"supervisor\",\n",
    "    )"
   ]
  },
  {
   "cell_type": "code",
   "execution_count": null,
   "metadata": {},
   "outputs": [],
   "source": [
    "graph_task = StateGraph(AgentState)\n",
    "graph_task.add_node(\"supervisor\",supervisor_node)\n",
    "graph_task.add_node(\"information_node\",information_node)\n",
    "graph_task.add_node(\"booking_node\",booking_node)\n",
    "graph_task.add_edge(START,\"supervisor\")\n",
    "app =  graph_task.compile()"
   ]
  },
  {
   "cell_type": "code",
   "execution_count": null,
   "metadata": {},
   "outputs": [
    {
     "name": "stdout",
     "output_type": "stream",
     "text": [
      "Graph(nodes={'__start__': Node(id='__start__', name='__start__', data=<class 'langchain_core.utils.pydantic.LangGraphInput'>, metadata=None), 'supervisor': Node(id='supervisor', name='supervisor', data=supervisor(tags=None, recurse=True, explode_args=False, func_accepts_config=False, func_accepts={}), metadata=None), 'information_node': Node(id='information_node', name='information_node', data=information_node(tags=None, recurse=True, explode_args=False, func_accepts_config=False, func_accepts={}), metadata=None), 'booking_node': Node(id='booking_node', name='booking_node', data=booking_node(tags=None, recurse=True, explode_args=False, func_accepts_config=False, func_accepts={}), metadata=None), '__end__': Node(id='__end__', name='__end__', data=<class 'langchain_core.utils.pydantic.LangGraphOutput'>, metadata=None)}, edges=[Edge(source='__start__', target='supervisor', data=None, conditional=False), Edge(source='supervisor', target='information_node', data=None, conditional=True), Edge(source='supervisor', target='booking_node', data=None, conditional=True), Edge(source='supervisor', target='__end__', data=None, conditional=True), Edge(source='information_node', target='supervisor', data=None, conditional=True), Edge(source='booking_node', target='supervisor', data=None, conditional=True)])\n"
     ]
    }
   ],
   "source": [
    "import langgraph\n",
    "\n",
    "graph = app.get_graph()\n",
    "print(graph)"
   ]
  },
  {
   "cell_type": "code",
   "execution_count": null,
   "metadata": {},
   "outputs": [],
   "source": [
    "# from IPython.display import Image, display\n",
    "# display(Image(app.get_graph().draw_mermaid_png()))"
   ]
  },
  {
   "cell_type": "code",
   "execution_count": null,
   "metadata": {},
   "outputs": [],
   "source": [
    "inputs = [\n",
    "        HumanMessage(content='can you check and make a booking if general dentist available on 8 August 2024 at 8 PM?')\n",
    "    ]"
   ]
  },
  {
   "cell_type": "code",
   "execution_count": null,
   "metadata": {},
   "outputs": [],
   "source": [
    "state = {'messages': inputs,'id_number':10232303}"
   ]
  },
  {
   "cell_type": "code",
   "execution_count": null,
   "metadata": {},
   "outputs": [
    {
     "name": "stdout",
     "output_type": "stream",
     "text": [
      "**************************below is my state right after entering****************************\n",
      "{'messages': [HumanMessage(content='can you check and make a booking if general dentist available on 8 August 2024 at 8 PM?', additional_kwargs={}, response_metadata={}, id='baa3ff76-81db-41e1-9c8d-0573c6b83768')], 'id_number': 10232303}\n",
      "***********************this is my message*****************************************\n",
      "[{'role': 'system', 'content': \"You are a supervisor tasked with managing a conversation between following workers. ### SPECIALIZED ASSISTANT:\\nWORKER: information_node \\nDESCRIPTION: specialized agent to provide information related to availability of doctors or any FAQs related to hospital.\\n\\nWORKER: booking_node \\nDESCRIPTION: specialized agent to only to book, cancel or reschedule appointment\\n\\nWORKER: FINISH \\nDESCRIPTION: If User Query is answered and route to Finished\\n\\nYour primary role is to help the user make an appointment with the doctor and provide updates on FAQs and doctor's availability. If a customer requests to know the availability of a doctor or to book, reschedule, or cancel an appointment, delegate the task to the appropriate specialized workers. Given the following user request, respond with the worker to act next. Each worker will perform a task and respond with their results and status. When finished, respond with FINISH.UTILIZE last conversation to assess if the conversation should end you answered the query, then route to FINISH \"}, {'role': 'user', 'content': \"user's identification number is 10232303\"}, HumanMessage(content='can you check and make a booking if general dentist available on 8 August 2024 at 8 PM?', additional_kwargs={}, response_metadata={}, id='baa3ff76-81db-41e1-9c8d-0573c6b83768')]\n",
      "************below is my query********************\n",
      "can you check and make a booking if general dentist available on 8 August 2024 at 8 PM?\n",
      "********************************this is my goto*************************\n",
      "information_node\n",
      "********************************\n",
      "The user wants to know the availability of a general dentist on a specific date and time. First, we need to check the availability of the dentist before proceeding with the booking.\n",
      "**************************below is my state****************************\n",
      "{'messages': [HumanMessage(content='can you check and make a booking if general dentist available on 8 August 2024 at 8 PM?', additional_kwargs={}, response_metadata={}, id='baa3ff76-81db-41e1-9c8d-0573c6b83768')], 'id_number': 10232303}\n",
      "*****************called information node************\n",
      "**************************below is my state right after entering****************************\n",
      "{'messages': [HumanMessage(content='can you check and make a booking if general dentist available on 8 August 2024 at 8 PM?', additional_kwargs={}, response_metadata={}, id='baa3ff76-81db-41e1-9c8d-0573c6b83768'), HumanMessage(content=\"user's identification number is 10232303\", additional_kwargs={}, response_metadata={}, id='dcd8d44e-3528-4c11-922c-ed4be96acba5'), AIMessage(content='The available slots for a general dentist on 8th August 2024 do not include an 8 PM option. Here are the available slots:\\n\\n- **Emily Johnson:**\\n  - 8:00 AM\\n  - 8:30 AM\\n  - 10:00 AM\\n  - 10:30 AM\\n  - 11:00 AM\\n  - 11:30 AM\\n  - 12:00 PM\\n  - 12:30 PM\\n  - 1:30 PM\\n  - 2:30 PM\\n  - 3:30 PM\\n  - 4:30 PM\\n\\n- **John Doe:**\\n  - 8:00 AM\\n  - 9:00 AM\\n  - 9:30 AM\\n  - 10:00 AM\\n  - 12:00 PM\\n  - 1:30 PM\\n  - 2:00 PM\\n  - 3:00 PM\\n  - 3:30 PM\\n  - 4:00 PM\\n  - 4:30 PM\\n\\nPlease let me know if you would like to book any of these available slots.', additional_kwargs={}, response_metadata={}, name='information_node', id='5ff96335-d96b-40ad-b96f-035d02f5503f')], 'id_number': 10232303, 'next': 'information_node', 'query': 'can you check and make a booking if general dentist available on 8 August 2024 at 8 PM?', 'current_reasoning': 'The user wants to know the availability of a general dentist on a specific date and time. First, we need to check the availability of the dentist before proceeding with the booking.'}\n",
      "***********************this is my message*****************************************\n",
      "[{'role': 'system', 'content': \"You are a supervisor tasked with managing a conversation between following workers. ### SPECIALIZED ASSISTANT:\\nWORKER: information_node \\nDESCRIPTION: specialized agent to provide information related to availability of doctors or any FAQs related to hospital.\\n\\nWORKER: booking_node \\nDESCRIPTION: specialized agent to only to book, cancel or reschedule appointment\\n\\nWORKER: FINISH \\nDESCRIPTION: If User Query is answered and route to Finished\\n\\nYour primary role is to help the user make an appointment with the doctor and provide updates on FAQs and doctor's availability. If a customer requests to know the availability of a doctor or to book, reschedule, or cancel an appointment, delegate the task to the appropriate specialized workers. Given the following user request, respond with the worker to act next. Each worker will perform a task and respond with their results and status. When finished, respond with FINISH.UTILIZE last conversation to assess if the conversation should end you answered the query, then route to FINISH \"}, {'role': 'user', 'content': \"user's identification number is 10232303\"}, HumanMessage(content='can you check and make a booking if general dentist available on 8 August 2024 at 8 PM?', additional_kwargs={}, response_metadata={}, id='baa3ff76-81db-41e1-9c8d-0573c6b83768'), HumanMessage(content=\"user's identification number is 10232303\", additional_kwargs={}, response_metadata={}, id='dcd8d44e-3528-4c11-922c-ed4be96acba5'), AIMessage(content='The available slots for a general dentist on 8th August 2024 do not include an 8 PM option. Here are the available slots:\\n\\n- **Emily Johnson:**\\n  - 8:00 AM\\n  - 8:30 AM\\n  - 10:00 AM\\n  - 10:30 AM\\n  - 11:00 AM\\n  - 11:30 AM\\n  - 12:00 PM\\n  - 12:30 PM\\n  - 1:30 PM\\n  - 2:30 PM\\n  - 3:30 PM\\n  - 4:30 PM\\n\\n- **John Doe:**\\n  - 8:00 AM\\n  - 9:00 AM\\n  - 9:30 AM\\n  - 10:00 AM\\n  - 12:00 PM\\n  - 1:30 PM\\n  - 2:00 PM\\n  - 3:00 PM\\n  - 3:30 PM\\n  - 4:00 PM\\n  - 4:30 PM\\n\\nPlease let me know if you would like to book any of these available slots.', additional_kwargs={}, response_metadata={}, name='information_node', id='5ff96335-d96b-40ad-b96f-035d02f5503f')]\n",
      "************below is my query********************\n",
      "\n",
      "********************************this is my goto*************************\n",
      "booking_node\n",
      "********************************\n",
      "The user requested to make a booking with a general dentist on 8th August 2024. Since we have provided the available slots, the next step is to book an appointment if the user chooses one of the available times.\n",
      "**************************below is my state****************************\n",
      "{'messages': [HumanMessage(content='can you check and make a booking if general dentist available on 8 August 2024 at 8 PM?', additional_kwargs={}, response_metadata={}, id='baa3ff76-81db-41e1-9c8d-0573c6b83768'), HumanMessage(content=\"user's identification number is 10232303\", additional_kwargs={}, response_metadata={}, id='dcd8d44e-3528-4c11-922c-ed4be96acba5'), AIMessage(content='The available slots for a general dentist on 8th August 2024 do not include an 8 PM option. Here are the available slots:\\n\\n- **Emily Johnson:**\\n  - 8:00 AM\\n  - 8:30 AM\\n  - 10:00 AM\\n  - 10:30 AM\\n  - 11:00 AM\\n  - 11:30 AM\\n  - 12:00 PM\\n  - 12:30 PM\\n  - 1:30 PM\\n  - 2:30 PM\\n  - 3:30 PM\\n  - 4:30 PM\\n\\n- **John Doe:**\\n  - 8:00 AM\\n  - 9:00 AM\\n  - 9:30 AM\\n  - 10:00 AM\\n  - 12:00 PM\\n  - 1:30 PM\\n  - 2:00 PM\\n  - 3:00 PM\\n  - 3:30 PM\\n  - 4:00 PM\\n  - 4:30 PM\\n\\nPlease let me know if you would like to book any of these available slots.', additional_kwargs={}, response_metadata={}, name='information_node', id='5ff96335-d96b-40ad-b96f-035d02f5503f')], 'id_number': 10232303, 'next': 'information_node', 'query': 'can you check and make a booking if general dentist available on 8 August 2024 at 8 PM?', 'current_reasoning': 'The user wants to know the availability of a general dentist on a specific date and time. First, we need to check the availability of the dentist before proceeding with the booking.'}\n",
      "**************************below is my state right after entering****************************\n",
      "{'messages': [HumanMessage(content='can you check and make a booking if general dentist available on 8 August 2024 at 8 PM?', additional_kwargs={}, response_metadata={}, id='baa3ff76-81db-41e1-9c8d-0573c6b83768'), HumanMessage(content=\"user's identification number is 10232303\", additional_kwargs={}, response_metadata={}, id='dcd8d44e-3528-4c11-922c-ed4be96acba5'), AIMessage(content='The available slots for a general dentist on 8th August 2024 do not include an 8 PM option. Here are the available slots:\\n\\n- **Emily Johnson:**\\n  - 8:00 AM\\n  - 8:30 AM\\n  - 10:00 AM\\n  - 10:30 AM\\n  - 11:00 AM\\n  - 11:30 AM\\n  - 12:00 PM\\n  - 12:30 PM\\n  - 1:30 PM\\n  - 2:30 PM\\n  - 3:30 PM\\n  - 4:30 PM\\n\\n- **John Doe:**\\n  - 8:00 AM\\n  - 9:00 AM\\n  - 9:30 AM\\n  - 10:00 AM\\n  - 12:00 PM\\n  - 1:30 PM\\n  - 2:00 PM\\n  - 3:00 PM\\n  - 3:30 PM\\n  - 4:00 PM\\n  - 4:30 PM\\n\\nPlease let me know if you would like to book any of these available slots.', additional_kwargs={}, response_metadata={}, name='information_node', id='5ff96335-d96b-40ad-b96f-035d02f5503f'), AIMessage(content='Would you like to book an available slot with either Emily Johnson or John Doe on 8th August 2024? Please let me know your preferred time.', additional_kwargs={}, response_metadata={}, name='booking_node', id='bdeffc3c-7ec5-4237-bcfa-51fe75178734')], 'id_number': 10232303, 'next': 'booking_node', 'query': 'can you check and make a booking if general dentist available on 8 August 2024 at 8 PM?', 'current_reasoning': 'The user requested to make a booking with a general dentist on 8th August 2024. Since we have provided the available slots, the next step is to book an appointment if the user chooses one of the available times.'}\n",
      "***********************this is my message*****************************************\n",
      "[{'role': 'system', 'content': \"You are a supervisor tasked with managing a conversation between following workers. ### SPECIALIZED ASSISTANT:\\nWORKER: information_node \\nDESCRIPTION: specialized agent to provide information related to availability of doctors or any FAQs related to hospital.\\n\\nWORKER: booking_node \\nDESCRIPTION: specialized agent to only to book, cancel or reschedule appointment\\n\\nWORKER: FINISH \\nDESCRIPTION: If User Query is answered and route to Finished\\n\\nYour primary role is to help the user make an appointment with the doctor and provide updates on FAQs and doctor's availability. If a customer requests to know the availability of a doctor or to book, reschedule, or cancel an appointment, delegate the task to the appropriate specialized workers. Given the following user request, respond with the worker to act next. Each worker will perform a task and respond with their results and status. When finished, respond with FINISH.UTILIZE last conversation to assess if the conversation should end you answered the query, then route to FINISH \"}, {'role': 'user', 'content': \"user's identification number is 10232303\"}, HumanMessage(content='can you check and make a booking if general dentist available on 8 August 2024 at 8 PM?', additional_kwargs={}, response_metadata={}, id='baa3ff76-81db-41e1-9c8d-0573c6b83768'), HumanMessage(content=\"user's identification number is 10232303\", additional_kwargs={}, response_metadata={}, id='dcd8d44e-3528-4c11-922c-ed4be96acba5'), AIMessage(content='The available slots for a general dentist on 8th August 2024 do not include an 8 PM option. Here are the available slots:\\n\\n- **Emily Johnson:**\\n  - 8:00 AM\\n  - 8:30 AM\\n  - 10:00 AM\\n  - 10:30 AM\\n  - 11:00 AM\\n  - 11:30 AM\\n  - 12:00 PM\\n  - 12:30 PM\\n  - 1:30 PM\\n  - 2:30 PM\\n  - 3:30 PM\\n  - 4:30 PM\\n\\n- **John Doe:**\\n  - 8:00 AM\\n  - 9:00 AM\\n  - 9:30 AM\\n  - 10:00 AM\\n  - 12:00 PM\\n  - 1:30 PM\\n  - 2:00 PM\\n  - 3:00 PM\\n  - 3:30 PM\\n  - 4:00 PM\\n  - 4:30 PM\\n\\nPlease let me know if you would like to book any of these available slots.', additional_kwargs={}, response_metadata={}, name='information_node', id='5ff96335-d96b-40ad-b96f-035d02f5503f'), AIMessage(content='Would you like to book an available slot with either Emily Johnson or John Doe on 8th August 2024? Please let me know your preferred time.', additional_kwargs={}, response_metadata={}, name='booking_node', id='bdeffc3c-7ec5-4237-bcfa-51fe75178734')]\n",
      "************below is my query********************\n",
      "\n",
      "********************************this is my goto*************************\n",
      "information_node\n",
      "********************************\n",
      "The user asked for the availability of a general dentist on a specific date and time. We need to check if a dentist is available at that time before proceeding with booking.\n",
      "**************************below is my state****************************\n",
      "{'messages': [HumanMessage(content='can you check and make a booking if general dentist available on 8 August 2024 at 8 PM?', additional_kwargs={}, response_metadata={}, id='baa3ff76-81db-41e1-9c8d-0573c6b83768'), HumanMessage(content=\"user's identification number is 10232303\", additional_kwargs={}, response_metadata={}, id='dcd8d44e-3528-4c11-922c-ed4be96acba5'), AIMessage(content='The available slots for a general dentist on 8th August 2024 do not include an 8 PM option. Here are the available slots:\\n\\n- **Emily Johnson:**\\n  - 8:00 AM\\n  - 8:30 AM\\n  - 10:00 AM\\n  - 10:30 AM\\n  - 11:00 AM\\n  - 11:30 AM\\n  - 12:00 PM\\n  - 12:30 PM\\n  - 1:30 PM\\n  - 2:30 PM\\n  - 3:30 PM\\n  - 4:30 PM\\n\\n- **John Doe:**\\n  - 8:00 AM\\n  - 9:00 AM\\n  - 9:30 AM\\n  - 10:00 AM\\n  - 12:00 PM\\n  - 1:30 PM\\n  - 2:00 PM\\n  - 3:00 PM\\n  - 3:30 PM\\n  - 4:00 PM\\n  - 4:30 PM\\n\\nPlease let me know if you would like to book any of these available slots.', additional_kwargs={}, response_metadata={}, name='information_node', id='5ff96335-d96b-40ad-b96f-035d02f5503f'), AIMessage(content='Would you like to book an available slot with either Emily Johnson or John Doe on 8th August 2024? Please let me know your preferred time.', additional_kwargs={}, response_metadata={}, name='booking_node', id='bdeffc3c-7ec5-4237-bcfa-51fe75178734')], 'id_number': 10232303, 'next': 'booking_node', 'query': 'can you check and make a booking if general dentist available on 8 August 2024 at 8 PM?', 'current_reasoning': 'The user requested to make a booking with a general dentist on 8th August 2024. Since we have provided the available slots, the next step is to book an appointment if the user chooses one of the available times.'}\n",
      "*****************called information node************\n",
      "**************************below is my state right after entering****************************\n",
      "{'messages': [HumanMessage(content='can you check and make a booking if general dentist available on 8 August 2024 at 8 PM?', additional_kwargs={}, response_metadata={}, id='baa3ff76-81db-41e1-9c8d-0573c6b83768'), HumanMessage(content=\"user's identification number is 10232303\", additional_kwargs={}, response_metadata={}, id='dcd8d44e-3528-4c11-922c-ed4be96acba5'), AIMessage(content='The available slots for a general dentist on 8th August 2024 do not include an 8 PM option. Here are the available slots:\\n\\n- **Emily Johnson:**\\n  - 8:00 AM\\n  - 8:30 AM\\n  - 10:00 AM\\n  - 10:30 AM\\n  - 11:00 AM\\n  - 11:30 AM\\n  - 12:00 PM\\n  - 12:30 PM\\n  - 1:30 PM\\n  - 2:30 PM\\n  - 3:30 PM\\n  - 4:30 PM\\n\\n- **John Doe:**\\n  - 8:00 AM\\n  - 9:00 AM\\n  - 9:30 AM\\n  - 10:00 AM\\n  - 12:00 PM\\n  - 1:30 PM\\n  - 2:00 PM\\n  - 3:00 PM\\n  - 3:30 PM\\n  - 4:00 PM\\n  - 4:30 PM\\n\\nPlease let me know if you would like to book any of these available slots.', additional_kwargs={}, response_metadata={}, name='information_node', id='5ff96335-d96b-40ad-b96f-035d02f5503f'), AIMessage(content='Would you like to book an available slot with either Emily Johnson or John Doe on 8th August 2024? Please let me know your preferred time.', additional_kwargs={}, response_metadata={}, name='booking_node', id='bdeffc3c-7ec5-4237-bcfa-51fe75178734'), AIMessage(content='I can check the availability for a general dentist on 8th August 2024 at 8 PM. Could you please confirm if you would like me to proceed with this?', additional_kwargs={}, response_metadata={}, name='information_node', id='f88f816c-4721-4cf8-a8ec-d602457eb58d')], 'id_number': 10232303, 'next': 'information_node', 'query': 'can you check and make a booking if general dentist available on 8 August 2024 at 8 PM?', 'current_reasoning': 'The user asked for the availability of a general dentist on a specific date and time. We need to check if a dentist is available at that time before proceeding with booking.'}\n",
      "***********************this is my message*****************************************\n",
      "[{'role': 'system', 'content': \"You are a supervisor tasked with managing a conversation between following workers. ### SPECIALIZED ASSISTANT:\\nWORKER: information_node \\nDESCRIPTION: specialized agent to provide information related to availability of doctors or any FAQs related to hospital.\\n\\nWORKER: booking_node \\nDESCRIPTION: specialized agent to only to book, cancel or reschedule appointment\\n\\nWORKER: FINISH \\nDESCRIPTION: If User Query is answered and route to Finished\\n\\nYour primary role is to help the user make an appointment with the doctor and provide updates on FAQs and doctor's availability. If a customer requests to know the availability of a doctor or to book, reschedule, or cancel an appointment, delegate the task to the appropriate specialized workers. Given the following user request, respond with the worker to act next. Each worker will perform a task and respond with their results and status. When finished, respond with FINISH.UTILIZE last conversation to assess if the conversation should end you answered the query, then route to FINISH \"}, {'role': 'user', 'content': \"user's identification number is 10232303\"}, HumanMessage(content='can you check and make a booking if general dentist available on 8 August 2024 at 8 PM?', additional_kwargs={}, response_metadata={}, id='baa3ff76-81db-41e1-9c8d-0573c6b83768'), HumanMessage(content=\"user's identification number is 10232303\", additional_kwargs={}, response_metadata={}, id='dcd8d44e-3528-4c11-922c-ed4be96acba5'), AIMessage(content='The available slots for a general dentist on 8th August 2024 do not include an 8 PM option. Here are the available slots:\\n\\n- **Emily Johnson:**\\n  - 8:00 AM\\n  - 8:30 AM\\n  - 10:00 AM\\n  - 10:30 AM\\n  - 11:00 AM\\n  - 11:30 AM\\n  - 12:00 PM\\n  - 12:30 PM\\n  - 1:30 PM\\n  - 2:30 PM\\n  - 3:30 PM\\n  - 4:30 PM\\n\\n- **John Doe:**\\n  - 8:00 AM\\n  - 9:00 AM\\n  - 9:30 AM\\n  - 10:00 AM\\n  - 12:00 PM\\n  - 1:30 PM\\n  - 2:00 PM\\n  - 3:00 PM\\n  - 3:30 PM\\n  - 4:00 PM\\n  - 4:30 PM\\n\\nPlease let me know if you would like to book any of these available slots.', additional_kwargs={}, response_metadata={}, name='information_node', id='5ff96335-d96b-40ad-b96f-035d02f5503f'), AIMessage(content='Would you like to book an available slot with either Emily Johnson or John Doe on 8th August 2024? Please let me know your preferred time.', additional_kwargs={}, response_metadata={}, name='booking_node', id='bdeffc3c-7ec5-4237-bcfa-51fe75178734'), AIMessage(content='I can check the availability for a general dentist on 8th August 2024 at 8 PM. Could you please confirm if you would like me to proceed with this?', additional_kwargs={}, response_metadata={}, name='information_node', id='f88f816c-4721-4cf8-a8ec-d602457eb58d')]\n",
      "************below is my query********************\n",
      "\n",
      "********************************this is my goto*************************\n",
      "information_node\n",
      "********************************\n",
      "First, we need to check the availability of a general dentist on the requested date and time before proceeding to book an appointment.\n",
      "**************************below is my state****************************\n",
      "{'messages': [HumanMessage(content='can you check and make a booking if general dentist available on 8 August 2024 at 8 PM?', additional_kwargs={}, response_metadata={}, id='baa3ff76-81db-41e1-9c8d-0573c6b83768'), HumanMessage(content=\"user's identification number is 10232303\", additional_kwargs={}, response_metadata={}, id='dcd8d44e-3528-4c11-922c-ed4be96acba5'), AIMessage(content='The available slots for a general dentist on 8th August 2024 do not include an 8 PM option. Here are the available slots:\\n\\n- **Emily Johnson:**\\n  - 8:00 AM\\n  - 8:30 AM\\n  - 10:00 AM\\n  - 10:30 AM\\n  - 11:00 AM\\n  - 11:30 AM\\n  - 12:00 PM\\n  - 12:30 PM\\n  - 1:30 PM\\n  - 2:30 PM\\n  - 3:30 PM\\n  - 4:30 PM\\n\\n- **John Doe:**\\n  - 8:00 AM\\n  - 9:00 AM\\n  - 9:30 AM\\n  - 10:00 AM\\n  - 12:00 PM\\n  - 1:30 PM\\n  - 2:00 PM\\n  - 3:00 PM\\n  - 3:30 PM\\n  - 4:00 PM\\n  - 4:30 PM\\n\\nPlease let me know if you would like to book any of these available slots.', additional_kwargs={}, response_metadata={}, name='information_node', id='5ff96335-d96b-40ad-b96f-035d02f5503f'), AIMessage(content='Would you like to book an available slot with either Emily Johnson or John Doe on 8th August 2024? Please let me know your preferred time.', additional_kwargs={}, response_metadata={}, name='booking_node', id='bdeffc3c-7ec5-4237-bcfa-51fe75178734'), AIMessage(content='I can check the availability for a general dentist on 8th August 2024 at 8 PM. Could you please confirm if you would like me to proceed with this?', additional_kwargs={}, response_metadata={}, name='information_node', id='f88f816c-4721-4cf8-a8ec-d602457eb58d')], 'id_number': 10232303, 'next': 'information_node', 'query': 'can you check and make a booking if general dentist available on 8 August 2024 at 8 PM?', 'current_reasoning': 'The user asked for the availability of a general dentist on a specific date and time. We need to check if a dentist is available at that time before proceeding with booking.'}\n",
      "*****************called information node************\n",
      "**************************below is my state right after entering****************************\n",
      "{'messages': [HumanMessage(content='can you check and make a booking if general dentist available on 8 August 2024 at 8 PM?', additional_kwargs={}, response_metadata={}, id='baa3ff76-81db-41e1-9c8d-0573c6b83768'), HumanMessage(content=\"user's identification number is 10232303\", additional_kwargs={}, response_metadata={}, id='dcd8d44e-3528-4c11-922c-ed4be96acba5'), AIMessage(content='The available slots for a general dentist on 8th August 2024 do not include an 8 PM option. Here are the available slots:\\n\\n- **Emily Johnson:**\\n  - 8:00 AM\\n  - 8:30 AM\\n  - 10:00 AM\\n  - 10:30 AM\\n  - 11:00 AM\\n  - 11:30 AM\\n  - 12:00 PM\\n  - 12:30 PM\\n  - 1:30 PM\\n  - 2:30 PM\\n  - 3:30 PM\\n  - 4:30 PM\\n\\n- **John Doe:**\\n  - 8:00 AM\\n  - 9:00 AM\\n  - 9:30 AM\\n  - 10:00 AM\\n  - 12:00 PM\\n  - 1:30 PM\\n  - 2:00 PM\\n  - 3:00 PM\\n  - 3:30 PM\\n  - 4:00 PM\\n  - 4:30 PM\\n\\nPlease let me know if you would like to book any of these available slots.', additional_kwargs={}, response_metadata={}, name='information_node', id='5ff96335-d96b-40ad-b96f-035d02f5503f'), AIMessage(content='Would you like to book an available slot with either Emily Johnson or John Doe on 8th August 2024? Please let me know your preferred time.', additional_kwargs={}, response_metadata={}, name='booking_node', id='bdeffc3c-7ec5-4237-bcfa-51fe75178734'), AIMessage(content='I can check the availability for a general dentist on 8th August 2024 at 8 PM. Could you please confirm if you would like me to proceed with this?', additional_kwargs={}, response_metadata={}, name='information_node', id='f88f816c-4721-4cf8-a8ec-d602457eb58d'), AIMessage(content='The available slots for a general dentist on 8th August 2024 do not include an 8 PM option. Here are the available slots:\\n\\n- **Emily Johnson:**\\n  - 8:00 AM\\n  - 8:30 AM\\n  - 10:00 AM\\n  - 10:30 AM\\n  - 11:00 AM\\n  - 11:30 AM\\n  - 12:00 PM\\n  - 12:30 PM\\n  - 1:30 PM\\n  - 2:30 PM\\n  - 3:30 PM\\n  - 4:30 PM\\n\\n- **John Doe:**\\n  - 8:00 AM\\n  - 9:00 AM\\n  - 9:30 AM\\n  - 10:00 AM\\n  - 12:00 PM\\n  - 1:30 PM\\n  - 2:00 PM\\n  - 3:00 PM\\n  - 3:30 PM\\n  - 4:00 PM\\n  - 4:30 PM\\n\\nPlease let me know if you would like to book any of these available slots.', additional_kwargs={}, response_metadata={}, name='information_node', id='0c4d6c9d-c06d-4180-86e6-b696d585fb69')], 'id_number': 10232303, 'next': 'information_node', 'query': 'can you check and make a booking if general dentist available on 8 August 2024 at 8 PM?', 'current_reasoning': 'First, we need to check the availability of a general dentist on the requested date and time before proceeding to book an appointment.'}\n",
      "***********************this is my message*****************************************\n",
      "[{'role': 'system', 'content': \"You are a supervisor tasked with managing a conversation between following workers. ### SPECIALIZED ASSISTANT:\\nWORKER: information_node \\nDESCRIPTION: specialized agent to provide information related to availability of doctors or any FAQs related to hospital.\\n\\nWORKER: booking_node \\nDESCRIPTION: specialized agent to only to book, cancel or reschedule appointment\\n\\nWORKER: FINISH \\nDESCRIPTION: If User Query is answered and route to Finished\\n\\nYour primary role is to help the user make an appointment with the doctor and provide updates on FAQs and doctor's availability. If a customer requests to know the availability of a doctor or to book, reschedule, or cancel an appointment, delegate the task to the appropriate specialized workers. Given the following user request, respond with the worker to act next. Each worker will perform a task and respond with their results and status. When finished, respond with FINISH.UTILIZE last conversation to assess if the conversation should end you answered the query, then route to FINISH \"}, {'role': 'user', 'content': \"user's identification number is 10232303\"}, HumanMessage(content='can you check and make a booking if general dentist available on 8 August 2024 at 8 PM?', additional_kwargs={}, response_metadata={}, id='baa3ff76-81db-41e1-9c8d-0573c6b83768'), HumanMessage(content=\"user's identification number is 10232303\", additional_kwargs={}, response_metadata={}, id='dcd8d44e-3528-4c11-922c-ed4be96acba5'), AIMessage(content='The available slots for a general dentist on 8th August 2024 do not include an 8 PM option. Here are the available slots:\\n\\n- **Emily Johnson:**\\n  - 8:00 AM\\n  - 8:30 AM\\n  - 10:00 AM\\n  - 10:30 AM\\n  - 11:00 AM\\n  - 11:30 AM\\n  - 12:00 PM\\n  - 12:30 PM\\n  - 1:30 PM\\n  - 2:30 PM\\n  - 3:30 PM\\n  - 4:30 PM\\n\\n- **John Doe:**\\n  - 8:00 AM\\n  - 9:00 AM\\n  - 9:30 AM\\n  - 10:00 AM\\n  - 12:00 PM\\n  - 1:30 PM\\n  - 2:00 PM\\n  - 3:00 PM\\n  - 3:30 PM\\n  - 4:00 PM\\n  - 4:30 PM\\n\\nPlease let me know if you would like to book any of these available slots.', additional_kwargs={}, response_metadata={}, name='information_node', id='5ff96335-d96b-40ad-b96f-035d02f5503f'), AIMessage(content='Would you like to book an available slot with either Emily Johnson or John Doe on 8th August 2024? Please let me know your preferred time.', additional_kwargs={}, response_metadata={}, name='booking_node', id='bdeffc3c-7ec5-4237-bcfa-51fe75178734'), AIMessage(content='I can check the availability for a general dentist on 8th August 2024 at 8 PM. Could you please confirm if you would like me to proceed with this?', additional_kwargs={}, response_metadata={}, name='information_node', id='f88f816c-4721-4cf8-a8ec-d602457eb58d'), AIMessage(content='The available slots for a general dentist on 8th August 2024 do not include an 8 PM option. Here are the available slots:\\n\\n- **Emily Johnson:**\\n  - 8:00 AM\\n  - 8:30 AM\\n  - 10:00 AM\\n  - 10:30 AM\\n  - 11:00 AM\\n  - 11:30 AM\\n  - 12:00 PM\\n  - 12:30 PM\\n  - 1:30 PM\\n  - 2:30 PM\\n  - 3:30 PM\\n  - 4:30 PM\\n\\n- **John Doe:**\\n  - 8:00 AM\\n  - 9:00 AM\\n  - 9:30 AM\\n  - 10:00 AM\\n  - 12:00 PM\\n  - 1:30 PM\\n  - 2:00 PM\\n  - 3:00 PM\\n  - 3:30 PM\\n  - 4:00 PM\\n  - 4:30 PM\\n\\nPlease let me know if you would like to book any of these available slots.', additional_kwargs={}, response_metadata={}, name='information_node', id='0c4d6c9d-c06d-4180-86e6-b696d585fb69')]\n",
      "************below is my query********************\n",
      "\n",
      "********************************this is my goto*************************\n",
      "booking_node\n",
      "********************************\n",
      "The user requested to make a booking for a general dentist. Since the desired time slot at 8 PM is not available, we provided the available slots. Now, the user needs to select one of the available slots for booking.\n",
      "**************************below is my state****************************\n",
      "{'messages': [HumanMessage(content='can you check and make a booking if general dentist available on 8 August 2024 at 8 PM?', additional_kwargs={}, response_metadata={}, id='baa3ff76-81db-41e1-9c8d-0573c6b83768'), HumanMessage(content=\"user's identification number is 10232303\", additional_kwargs={}, response_metadata={}, id='dcd8d44e-3528-4c11-922c-ed4be96acba5'), AIMessage(content='The available slots for a general dentist on 8th August 2024 do not include an 8 PM option. Here are the available slots:\\n\\n- **Emily Johnson:**\\n  - 8:00 AM\\n  - 8:30 AM\\n  - 10:00 AM\\n  - 10:30 AM\\n  - 11:00 AM\\n  - 11:30 AM\\n  - 12:00 PM\\n  - 12:30 PM\\n  - 1:30 PM\\n  - 2:30 PM\\n  - 3:30 PM\\n  - 4:30 PM\\n\\n- **John Doe:**\\n  - 8:00 AM\\n  - 9:00 AM\\n  - 9:30 AM\\n  - 10:00 AM\\n  - 12:00 PM\\n  - 1:30 PM\\n  - 2:00 PM\\n  - 3:00 PM\\n  - 3:30 PM\\n  - 4:00 PM\\n  - 4:30 PM\\n\\nPlease let me know if you would like to book any of these available slots.', additional_kwargs={}, response_metadata={}, name='information_node', id='5ff96335-d96b-40ad-b96f-035d02f5503f'), AIMessage(content='Would you like to book an available slot with either Emily Johnson or John Doe on 8th August 2024? Please let me know your preferred time.', additional_kwargs={}, response_metadata={}, name='booking_node', id='bdeffc3c-7ec5-4237-bcfa-51fe75178734'), AIMessage(content='I can check the availability for a general dentist on 8th August 2024 at 8 PM. Could you please confirm if you would like me to proceed with this?', additional_kwargs={}, response_metadata={}, name='information_node', id='f88f816c-4721-4cf8-a8ec-d602457eb58d'), AIMessage(content='The available slots for a general dentist on 8th August 2024 do not include an 8 PM option. Here are the available slots:\\n\\n- **Emily Johnson:**\\n  - 8:00 AM\\n  - 8:30 AM\\n  - 10:00 AM\\n  - 10:30 AM\\n  - 11:00 AM\\n  - 11:30 AM\\n  - 12:00 PM\\n  - 12:30 PM\\n  - 1:30 PM\\n  - 2:30 PM\\n  - 3:30 PM\\n  - 4:30 PM\\n\\n- **John Doe:**\\n  - 8:00 AM\\n  - 9:00 AM\\n  - 9:30 AM\\n  - 10:00 AM\\n  - 12:00 PM\\n  - 1:30 PM\\n  - 2:00 PM\\n  - 3:00 PM\\n  - 3:30 PM\\n  - 4:00 PM\\n  - 4:30 PM\\n\\nPlease let me know if you would like to book any of these available slots.', additional_kwargs={}, response_metadata={}, name='information_node', id='0c4d6c9d-c06d-4180-86e6-b696d585fb69')], 'id_number': 10232303, 'next': 'information_node', 'query': 'can you check and make a booking if general dentist available on 8 August 2024 at 8 PM?', 'current_reasoning': 'First, we need to check the availability of a general dentist on the requested date and time before proceeding to book an appointment.'}\n",
      "**************************below is my state right after entering****************************\n",
      "{'messages': [HumanMessage(content='can you check and make a booking if general dentist available on 8 August 2024 at 8 PM?', additional_kwargs={}, response_metadata={}, id='baa3ff76-81db-41e1-9c8d-0573c6b83768'), HumanMessage(content=\"user's identification number is 10232303\", additional_kwargs={}, response_metadata={}, id='dcd8d44e-3528-4c11-922c-ed4be96acba5'), AIMessage(content='The available slots for a general dentist on 8th August 2024 do not include an 8 PM option. Here are the available slots:\\n\\n- **Emily Johnson:**\\n  - 8:00 AM\\n  - 8:30 AM\\n  - 10:00 AM\\n  - 10:30 AM\\n  - 11:00 AM\\n  - 11:30 AM\\n  - 12:00 PM\\n  - 12:30 PM\\n  - 1:30 PM\\n  - 2:30 PM\\n  - 3:30 PM\\n  - 4:30 PM\\n\\n- **John Doe:**\\n  - 8:00 AM\\n  - 9:00 AM\\n  - 9:30 AM\\n  - 10:00 AM\\n  - 12:00 PM\\n  - 1:30 PM\\n  - 2:00 PM\\n  - 3:00 PM\\n  - 3:30 PM\\n  - 4:00 PM\\n  - 4:30 PM\\n\\nPlease let me know if you would like to book any of these available slots.', additional_kwargs={}, response_metadata={}, name='information_node', id='5ff96335-d96b-40ad-b96f-035d02f5503f'), AIMessage(content='Would you like to book an available slot with either Emily Johnson or John Doe on 8th August 2024? Please let me know your preferred time.', additional_kwargs={}, response_metadata={}, name='booking_node', id='bdeffc3c-7ec5-4237-bcfa-51fe75178734'), AIMessage(content='I can check the availability for a general dentist on 8th August 2024 at 8 PM. Could you please confirm if you would like me to proceed with this?', additional_kwargs={}, response_metadata={}, name='information_node', id='f88f816c-4721-4cf8-a8ec-d602457eb58d'), AIMessage(content='The available slots for a general dentist on 8th August 2024 do not include an 8 PM option. Here are the available slots:\\n\\n- **Emily Johnson:**\\n  - 8:00 AM\\n  - 8:30 AM\\n  - 10:00 AM\\n  - 10:30 AM\\n  - 11:00 AM\\n  - 11:30 AM\\n  - 12:00 PM\\n  - 12:30 PM\\n  - 1:30 PM\\n  - 2:30 PM\\n  - 3:30 PM\\n  - 4:30 PM\\n\\n- **John Doe:**\\n  - 8:00 AM\\n  - 9:00 AM\\n  - 9:30 AM\\n  - 10:00 AM\\n  - 12:00 PM\\n  - 1:30 PM\\n  - 2:00 PM\\n  - 3:00 PM\\n  - 3:30 PM\\n  - 4:00 PM\\n  - 4:30 PM\\n\\nPlease let me know if you would like to book any of these available slots.', additional_kwargs={}, response_metadata={}, name='information_node', id='0c4d6c9d-c06d-4180-86e6-b696d585fb69'), AIMessage(content='The available slots for a general dentist on 8th August 2024 do not include an 8 PM option. Here are the available slots:\\n\\n- **Emily Johnson:**\\n  - 8:00 AM\\n  - 8:30 AM\\n  - 10:00 AM\\n  - 10:30 AM\\n  - 11:00 AM\\n  - 11:30 AM\\n  - 12:00 PM\\n  - 12:30 PM\\n  - 1:30 PM\\n  - 2:30 PM\\n  - 3:30 PM\\n  - 4:30 PM\\n\\n- **John Doe:**\\n  - 8:00 AM\\n  - 9:00 AM\\n  - 9:30 AM\\n  - 10:00 AM\\n  - 12:00 PM\\n  - 1:30 PM\\n  - 2:00 PM\\n  - 3:00 PM\\n  - 3:30 PM\\n  - 4:00 PM\\n  - 4:30 PM\\n\\nPlease let me know if you would like to book any of these available slots.', additional_kwargs={}, response_metadata={}, name='booking_node', id='696f2ec9-8cd0-4f3e-b0e5-c69a0177b727')], 'id_number': 10232303, 'next': 'booking_node', 'query': 'can you check and make a booking if general dentist available on 8 August 2024 at 8 PM?', 'current_reasoning': 'The user requested to make a booking for a general dentist. Since the desired time slot at 8 PM is not available, we provided the available slots. Now, the user needs to select one of the available slots for booking.'}\n",
      "***********************this is my message*****************************************\n",
      "[{'role': 'system', 'content': \"You are a supervisor tasked with managing a conversation between following workers. ### SPECIALIZED ASSISTANT:\\nWORKER: information_node \\nDESCRIPTION: specialized agent to provide information related to availability of doctors or any FAQs related to hospital.\\n\\nWORKER: booking_node \\nDESCRIPTION: specialized agent to only to book, cancel or reschedule appointment\\n\\nWORKER: FINISH \\nDESCRIPTION: If User Query is answered and route to Finished\\n\\nYour primary role is to help the user make an appointment with the doctor and provide updates on FAQs and doctor's availability. If a customer requests to know the availability of a doctor or to book, reschedule, or cancel an appointment, delegate the task to the appropriate specialized workers. Given the following user request, respond with the worker to act next. Each worker will perform a task and respond with their results and status. When finished, respond with FINISH.UTILIZE last conversation to assess if the conversation should end you answered the query, then route to FINISH \"}, {'role': 'user', 'content': \"user's identification number is 10232303\"}, HumanMessage(content='can you check and make a booking if general dentist available on 8 August 2024 at 8 PM?', additional_kwargs={}, response_metadata={}, id='baa3ff76-81db-41e1-9c8d-0573c6b83768'), HumanMessage(content=\"user's identification number is 10232303\", additional_kwargs={}, response_metadata={}, id='dcd8d44e-3528-4c11-922c-ed4be96acba5'), AIMessage(content='The available slots for a general dentist on 8th August 2024 do not include an 8 PM option. Here are the available slots:\\n\\n- **Emily Johnson:**\\n  - 8:00 AM\\n  - 8:30 AM\\n  - 10:00 AM\\n  - 10:30 AM\\n  - 11:00 AM\\n  - 11:30 AM\\n  - 12:00 PM\\n  - 12:30 PM\\n  - 1:30 PM\\n  - 2:30 PM\\n  - 3:30 PM\\n  - 4:30 PM\\n\\n- **John Doe:**\\n  - 8:00 AM\\n  - 9:00 AM\\n  - 9:30 AM\\n  - 10:00 AM\\n  - 12:00 PM\\n  - 1:30 PM\\n  - 2:00 PM\\n  - 3:00 PM\\n  - 3:30 PM\\n  - 4:00 PM\\n  - 4:30 PM\\n\\nPlease let me know if you would like to book any of these available slots.', additional_kwargs={}, response_metadata={}, name='information_node', id='5ff96335-d96b-40ad-b96f-035d02f5503f'), AIMessage(content='Would you like to book an available slot with either Emily Johnson or John Doe on 8th August 2024? Please let me know your preferred time.', additional_kwargs={}, response_metadata={}, name='booking_node', id='bdeffc3c-7ec5-4237-bcfa-51fe75178734'), AIMessage(content='I can check the availability for a general dentist on 8th August 2024 at 8 PM. Could you please confirm if you would like me to proceed with this?', additional_kwargs={}, response_metadata={}, name='information_node', id='f88f816c-4721-4cf8-a8ec-d602457eb58d'), AIMessage(content='The available slots for a general dentist on 8th August 2024 do not include an 8 PM option. Here are the available slots:\\n\\n- **Emily Johnson:**\\n  - 8:00 AM\\n  - 8:30 AM\\n  - 10:00 AM\\n  - 10:30 AM\\n  - 11:00 AM\\n  - 11:30 AM\\n  - 12:00 PM\\n  - 12:30 PM\\n  - 1:30 PM\\n  - 2:30 PM\\n  - 3:30 PM\\n  - 4:30 PM\\n\\n- **John Doe:**\\n  - 8:00 AM\\n  - 9:00 AM\\n  - 9:30 AM\\n  - 10:00 AM\\n  - 12:00 PM\\n  - 1:30 PM\\n  - 2:00 PM\\n  - 3:00 PM\\n  - 3:30 PM\\n  - 4:00 PM\\n  - 4:30 PM\\n\\nPlease let me know if you would like to book any of these available slots.', additional_kwargs={}, response_metadata={}, name='information_node', id='0c4d6c9d-c06d-4180-86e6-b696d585fb69'), AIMessage(content='The available slots for a general dentist on 8th August 2024 do not include an 8 PM option. Here are the available slots:\\n\\n- **Emily Johnson:**\\n  - 8:00 AM\\n  - 8:30 AM\\n  - 10:00 AM\\n  - 10:30 AM\\n  - 11:00 AM\\n  - 11:30 AM\\n  - 12:00 PM\\n  - 12:30 PM\\n  - 1:30 PM\\n  - 2:30 PM\\n  - 3:30 PM\\n  - 4:30 PM\\n\\n- **John Doe:**\\n  - 8:00 AM\\n  - 9:00 AM\\n  - 9:30 AM\\n  - 10:00 AM\\n  - 12:00 PM\\n  - 1:30 PM\\n  - 2:00 PM\\n  - 3:00 PM\\n  - 3:30 PM\\n  - 4:00 PM\\n  - 4:30 PM\\n\\nPlease let me know if you would like to book any of these available slots.', additional_kwargs={}, response_metadata={}, name='booking_node', id='696f2ec9-8cd0-4f3e-b0e5-c69a0177b727')]\n",
      "************below is my query********************\n",
      "\n",
      "********************************this is my goto*************************\n",
      "information_node\n",
      "********************************\n",
      "First, I need to verify the availability of a general dentist on the specified date and time before proceeding with the booking.\n",
      "**************************below is my state****************************\n",
      "{'messages': [HumanMessage(content='can you check and make a booking if general dentist available on 8 August 2024 at 8 PM?', additional_kwargs={}, response_metadata={}, id='baa3ff76-81db-41e1-9c8d-0573c6b83768'), HumanMessage(content=\"user's identification number is 10232303\", additional_kwargs={}, response_metadata={}, id='dcd8d44e-3528-4c11-922c-ed4be96acba5'), AIMessage(content='The available slots for a general dentist on 8th August 2024 do not include an 8 PM option. Here are the available slots:\\n\\n- **Emily Johnson:**\\n  - 8:00 AM\\n  - 8:30 AM\\n  - 10:00 AM\\n  - 10:30 AM\\n  - 11:00 AM\\n  - 11:30 AM\\n  - 12:00 PM\\n  - 12:30 PM\\n  - 1:30 PM\\n  - 2:30 PM\\n  - 3:30 PM\\n  - 4:30 PM\\n\\n- **John Doe:**\\n  - 8:00 AM\\n  - 9:00 AM\\n  - 9:30 AM\\n  - 10:00 AM\\n  - 12:00 PM\\n  - 1:30 PM\\n  - 2:00 PM\\n  - 3:00 PM\\n  - 3:30 PM\\n  - 4:00 PM\\n  - 4:30 PM\\n\\nPlease let me know if you would like to book any of these available slots.', additional_kwargs={}, response_metadata={}, name='information_node', id='5ff96335-d96b-40ad-b96f-035d02f5503f'), AIMessage(content='Would you like to book an available slot with either Emily Johnson or John Doe on 8th August 2024? Please let me know your preferred time.', additional_kwargs={}, response_metadata={}, name='booking_node', id='bdeffc3c-7ec5-4237-bcfa-51fe75178734'), AIMessage(content='I can check the availability for a general dentist on 8th August 2024 at 8 PM. Could you please confirm if you would like me to proceed with this?', additional_kwargs={}, response_metadata={}, name='information_node', id='f88f816c-4721-4cf8-a8ec-d602457eb58d'), AIMessage(content='The available slots for a general dentist on 8th August 2024 do not include an 8 PM option. Here are the available slots:\\n\\n- **Emily Johnson:**\\n  - 8:00 AM\\n  - 8:30 AM\\n  - 10:00 AM\\n  - 10:30 AM\\n  - 11:00 AM\\n  - 11:30 AM\\n  - 12:00 PM\\n  - 12:30 PM\\n  - 1:30 PM\\n  - 2:30 PM\\n  - 3:30 PM\\n  - 4:30 PM\\n\\n- **John Doe:**\\n  - 8:00 AM\\n  - 9:00 AM\\n  - 9:30 AM\\n  - 10:00 AM\\n  - 12:00 PM\\n  - 1:30 PM\\n  - 2:00 PM\\n  - 3:00 PM\\n  - 3:30 PM\\n  - 4:00 PM\\n  - 4:30 PM\\n\\nPlease let me know if you would like to book any of these available slots.', additional_kwargs={}, response_metadata={}, name='information_node', id='0c4d6c9d-c06d-4180-86e6-b696d585fb69'), AIMessage(content='The available slots for a general dentist on 8th August 2024 do not include an 8 PM option. Here are the available slots:\\n\\n- **Emily Johnson:**\\n  - 8:00 AM\\n  - 8:30 AM\\n  - 10:00 AM\\n  - 10:30 AM\\n  - 11:00 AM\\n  - 11:30 AM\\n  - 12:00 PM\\n  - 12:30 PM\\n  - 1:30 PM\\n  - 2:30 PM\\n  - 3:30 PM\\n  - 4:30 PM\\n\\n- **John Doe:**\\n  - 8:00 AM\\n  - 9:00 AM\\n  - 9:30 AM\\n  - 10:00 AM\\n  - 12:00 PM\\n  - 1:30 PM\\n  - 2:00 PM\\n  - 3:00 PM\\n  - 3:30 PM\\n  - 4:00 PM\\n  - 4:30 PM\\n\\nPlease let me know if you would like to book any of these available slots.', additional_kwargs={}, response_metadata={}, name='booking_node', id='696f2ec9-8cd0-4f3e-b0e5-c69a0177b727')], 'id_number': 10232303, 'next': 'booking_node', 'query': 'can you check and make a booking if general dentist available on 8 August 2024 at 8 PM?', 'current_reasoning': 'The user requested to make a booking for a general dentist. Since the desired time slot at 8 PM is not available, we provided the available slots. Now, the user needs to select one of the available slots for booking.'}\n",
      "*****************called information node************\n",
      "**************************below is my state right after entering****************************\n",
      "{'messages': [HumanMessage(content='can you check and make a booking if general dentist available on 8 August 2024 at 8 PM?', additional_kwargs={}, response_metadata={}, id='baa3ff76-81db-41e1-9c8d-0573c6b83768'), HumanMessage(content=\"user's identification number is 10232303\", additional_kwargs={}, response_metadata={}, id='dcd8d44e-3528-4c11-922c-ed4be96acba5'), AIMessage(content='The available slots for a general dentist on 8th August 2024 do not include an 8 PM option. Here are the available slots:\\n\\n- **Emily Johnson:**\\n  - 8:00 AM\\n  - 8:30 AM\\n  - 10:00 AM\\n  - 10:30 AM\\n  - 11:00 AM\\n  - 11:30 AM\\n  - 12:00 PM\\n  - 12:30 PM\\n  - 1:30 PM\\n  - 2:30 PM\\n  - 3:30 PM\\n  - 4:30 PM\\n\\n- **John Doe:**\\n  - 8:00 AM\\n  - 9:00 AM\\n  - 9:30 AM\\n  - 10:00 AM\\n  - 12:00 PM\\n  - 1:30 PM\\n  - 2:00 PM\\n  - 3:00 PM\\n  - 3:30 PM\\n  - 4:00 PM\\n  - 4:30 PM\\n\\nPlease let me know if you would like to book any of these available slots.', additional_kwargs={}, response_metadata={}, name='information_node', id='5ff96335-d96b-40ad-b96f-035d02f5503f'), AIMessage(content='Would you like to book an available slot with either Emily Johnson or John Doe on 8th August 2024? Please let me know your preferred time.', additional_kwargs={}, response_metadata={}, name='booking_node', id='bdeffc3c-7ec5-4237-bcfa-51fe75178734'), AIMessage(content='I can check the availability for a general dentist on 8th August 2024 at 8 PM. Could you please confirm if you would like me to proceed with this?', additional_kwargs={}, response_metadata={}, name='information_node', id='f88f816c-4721-4cf8-a8ec-d602457eb58d'), AIMessage(content='The available slots for a general dentist on 8th August 2024 do not include an 8 PM option. Here are the available slots:\\n\\n- **Emily Johnson:**\\n  - 8:00 AM\\n  - 8:30 AM\\n  - 10:00 AM\\n  - 10:30 AM\\n  - 11:00 AM\\n  - 11:30 AM\\n  - 12:00 PM\\n  - 12:30 PM\\n  - 1:30 PM\\n  - 2:30 PM\\n  - 3:30 PM\\n  - 4:30 PM\\n\\n- **John Doe:**\\n  - 8:00 AM\\n  - 9:00 AM\\n  - 9:30 AM\\n  - 10:00 AM\\n  - 12:00 PM\\n  - 1:30 PM\\n  - 2:00 PM\\n  - 3:00 PM\\n  - 3:30 PM\\n  - 4:00 PM\\n  - 4:30 PM\\n\\nPlease let me know if you would like to book any of these available slots.', additional_kwargs={}, response_metadata={}, name='information_node', id='0c4d6c9d-c06d-4180-86e6-b696d585fb69'), AIMessage(content='The available slots for a general dentist on 8th August 2024 do not include an 8 PM option. Here are the available slots:\\n\\n- **Emily Johnson:**\\n  - 8:00 AM\\n  - 8:30 AM\\n  - 10:00 AM\\n  - 10:30 AM\\n  - 11:00 AM\\n  - 11:30 AM\\n  - 12:00 PM\\n  - 12:30 PM\\n  - 1:30 PM\\n  - 2:30 PM\\n  - 3:30 PM\\n  - 4:30 PM\\n\\n- **John Doe:**\\n  - 8:00 AM\\n  - 9:00 AM\\n  - 9:30 AM\\n  - 10:00 AM\\n  - 12:00 PM\\n  - 1:30 PM\\n  - 2:00 PM\\n  - 3:00 PM\\n  - 3:30 PM\\n  - 4:00 PM\\n  - 4:30 PM\\n\\nPlease let me know if you would like to book any of these available slots.', additional_kwargs={}, response_metadata={}, name='booking_node', id='696f2ec9-8cd0-4f3e-b0e5-c69a0177b727'), AIMessage(content='The available slots for a general dentist on 8th August 2024 do not include an 8 PM option. Here are the available slots:\\n\\n- **Emily Johnson:**\\n  - 8:00 AM\\n  - 8:30 AM\\n  - 10:00 AM\\n  - 10:30 AM\\n  - 11:00 AM\\n  - 11:30 AM\\n  - 12:00 PM\\n  - 12:30 PM\\n  - 1:30 PM\\n  - 2:30 PM\\n  - 3:30 PM\\n  - 4:30 PM\\n\\n- **John Doe:**\\n  - 8:00 AM\\n  - 9:00 AM\\n  - 9:30 AM\\n  - 10:00 AM\\n  - 12:00 PM\\n  - 1:30 PM\\n  - 2:00 PM\\n  - 3:00 PM\\n  - 3:30 PM\\n  - 4:00 PM\\n  - 4:30 PM\\n\\nPlease let me know if you would like to book any of these available slots.', additional_kwargs={}, response_metadata={}, name='information_node', id='e884f6cd-3983-457a-81dd-9c6e72403cbc')], 'id_number': 10232303, 'next': 'information_node', 'query': 'can you check and make a booking if general dentist available on 8 August 2024 at 8 PM?', 'current_reasoning': 'First, I need to verify the availability of a general dentist on the specified date and time before proceeding with the booking.'}\n",
      "***********************this is my message*****************************************\n",
      "[{'role': 'system', 'content': \"You are a supervisor tasked with managing a conversation between following workers. ### SPECIALIZED ASSISTANT:\\nWORKER: information_node \\nDESCRIPTION: specialized agent to provide information related to availability of doctors or any FAQs related to hospital.\\n\\nWORKER: booking_node \\nDESCRIPTION: specialized agent to only to book, cancel or reschedule appointment\\n\\nWORKER: FINISH \\nDESCRIPTION: If User Query is answered and route to Finished\\n\\nYour primary role is to help the user make an appointment with the doctor and provide updates on FAQs and doctor's availability. If a customer requests to know the availability of a doctor or to book, reschedule, or cancel an appointment, delegate the task to the appropriate specialized workers. Given the following user request, respond with the worker to act next. Each worker will perform a task and respond with their results and status. When finished, respond with FINISH.UTILIZE last conversation to assess if the conversation should end you answered the query, then route to FINISH \"}, {'role': 'user', 'content': \"user's identification number is 10232303\"}, HumanMessage(content='can you check and make a booking if general dentist available on 8 August 2024 at 8 PM?', additional_kwargs={}, response_metadata={}, id='baa3ff76-81db-41e1-9c8d-0573c6b83768'), HumanMessage(content=\"user's identification number is 10232303\", additional_kwargs={}, response_metadata={}, id='dcd8d44e-3528-4c11-922c-ed4be96acba5'), AIMessage(content='The available slots for a general dentist on 8th August 2024 do not include an 8 PM option. Here are the available slots:\\n\\n- **Emily Johnson:**\\n  - 8:00 AM\\n  - 8:30 AM\\n  - 10:00 AM\\n  - 10:30 AM\\n  - 11:00 AM\\n  - 11:30 AM\\n  - 12:00 PM\\n  - 12:30 PM\\n  - 1:30 PM\\n  - 2:30 PM\\n  - 3:30 PM\\n  - 4:30 PM\\n\\n- **John Doe:**\\n  - 8:00 AM\\n  - 9:00 AM\\n  - 9:30 AM\\n  - 10:00 AM\\n  - 12:00 PM\\n  - 1:30 PM\\n  - 2:00 PM\\n  - 3:00 PM\\n  - 3:30 PM\\n  - 4:00 PM\\n  - 4:30 PM\\n\\nPlease let me know if you would like to book any of these available slots.', additional_kwargs={}, response_metadata={}, name='information_node', id='5ff96335-d96b-40ad-b96f-035d02f5503f'), AIMessage(content='Would you like to book an available slot with either Emily Johnson or John Doe on 8th August 2024? Please let me know your preferred time.', additional_kwargs={}, response_metadata={}, name='booking_node', id='bdeffc3c-7ec5-4237-bcfa-51fe75178734'), AIMessage(content='I can check the availability for a general dentist on 8th August 2024 at 8 PM. Could you please confirm if you would like me to proceed with this?', additional_kwargs={}, response_metadata={}, name='information_node', id='f88f816c-4721-4cf8-a8ec-d602457eb58d'), AIMessage(content='The available slots for a general dentist on 8th August 2024 do not include an 8 PM option. Here are the available slots:\\n\\n- **Emily Johnson:**\\n  - 8:00 AM\\n  - 8:30 AM\\n  - 10:00 AM\\n  - 10:30 AM\\n  - 11:00 AM\\n  - 11:30 AM\\n  - 12:00 PM\\n  - 12:30 PM\\n  - 1:30 PM\\n  - 2:30 PM\\n  - 3:30 PM\\n  - 4:30 PM\\n\\n- **John Doe:**\\n  - 8:00 AM\\n  - 9:00 AM\\n  - 9:30 AM\\n  - 10:00 AM\\n  - 12:00 PM\\n  - 1:30 PM\\n  - 2:00 PM\\n  - 3:00 PM\\n  - 3:30 PM\\n  - 4:00 PM\\n  - 4:30 PM\\n\\nPlease let me know if you would like to book any of these available slots.', additional_kwargs={}, response_metadata={}, name='information_node', id='0c4d6c9d-c06d-4180-86e6-b696d585fb69'), AIMessage(content='The available slots for a general dentist on 8th August 2024 do not include an 8 PM option. Here are the available slots:\\n\\n- **Emily Johnson:**\\n  - 8:00 AM\\n  - 8:30 AM\\n  - 10:00 AM\\n  - 10:30 AM\\n  - 11:00 AM\\n  - 11:30 AM\\n  - 12:00 PM\\n  - 12:30 PM\\n  - 1:30 PM\\n  - 2:30 PM\\n  - 3:30 PM\\n  - 4:30 PM\\n\\n- **John Doe:**\\n  - 8:00 AM\\n  - 9:00 AM\\n  - 9:30 AM\\n  - 10:00 AM\\n  - 12:00 PM\\n  - 1:30 PM\\n  - 2:00 PM\\n  - 3:00 PM\\n  - 3:30 PM\\n  - 4:00 PM\\n  - 4:30 PM\\n\\nPlease let me know if you would like to book any of these available slots.', additional_kwargs={}, response_metadata={}, name='booking_node', id='696f2ec9-8cd0-4f3e-b0e5-c69a0177b727'), AIMessage(content='The available slots for a general dentist on 8th August 2024 do not include an 8 PM option. Here are the available slots:\\n\\n- **Emily Johnson:**\\n  - 8:00 AM\\n  - 8:30 AM\\n  - 10:00 AM\\n  - 10:30 AM\\n  - 11:00 AM\\n  - 11:30 AM\\n  - 12:00 PM\\n  - 12:30 PM\\n  - 1:30 PM\\n  - 2:30 PM\\n  - 3:30 PM\\n  - 4:30 PM\\n\\n- **John Doe:**\\n  - 8:00 AM\\n  - 9:00 AM\\n  - 9:30 AM\\n  - 10:00 AM\\n  - 12:00 PM\\n  - 1:30 PM\\n  - 2:00 PM\\n  - 3:00 PM\\n  - 3:30 PM\\n  - 4:00 PM\\n  - 4:30 PM\\n\\nPlease let me know if you would like to book any of these available slots.', additional_kwargs={}, response_metadata={}, name='information_node', id='e884f6cd-3983-457a-81dd-9c6e72403cbc')]\n",
      "************below is my query********************\n",
      "\n",
      "********************************this is my goto*************************\n",
      "booking_node\n",
      "********************************\n",
      "The user wants to make a booking for a general dentist appointment. Since the requested slot at 8 PM is not available, I will ask the booking_node to help the user book an available slot.\n",
      "**************************below is my state****************************\n",
      "{'messages': [HumanMessage(content='can you check and make a booking if general dentist available on 8 August 2024 at 8 PM?', additional_kwargs={}, response_metadata={}, id='baa3ff76-81db-41e1-9c8d-0573c6b83768'), HumanMessage(content=\"user's identification number is 10232303\", additional_kwargs={}, response_metadata={}, id='dcd8d44e-3528-4c11-922c-ed4be96acba5'), AIMessage(content='The available slots for a general dentist on 8th August 2024 do not include an 8 PM option. Here are the available slots:\\n\\n- **Emily Johnson:**\\n  - 8:00 AM\\n  - 8:30 AM\\n  - 10:00 AM\\n  - 10:30 AM\\n  - 11:00 AM\\n  - 11:30 AM\\n  - 12:00 PM\\n  - 12:30 PM\\n  - 1:30 PM\\n  - 2:30 PM\\n  - 3:30 PM\\n  - 4:30 PM\\n\\n- **John Doe:**\\n  - 8:00 AM\\n  - 9:00 AM\\n  - 9:30 AM\\n  - 10:00 AM\\n  - 12:00 PM\\n  - 1:30 PM\\n  - 2:00 PM\\n  - 3:00 PM\\n  - 3:30 PM\\n  - 4:00 PM\\n  - 4:30 PM\\n\\nPlease let me know if you would like to book any of these available slots.', additional_kwargs={}, response_metadata={}, name='information_node', id='5ff96335-d96b-40ad-b96f-035d02f5503f'), AIMessage(content='Would you like to book an available slot with either Emily Johnson or John Doe on 8th August 2024? Please let me know your preferred time.', additional_kwargs={}, response_metadata={}, name='booking_node', id='bdeffc3c-7ec5-4237-bcfa-51fe75178734'), AIMessage(content='I can check the availability for a general dentist on 8th August 2024 at 8 PM. Could you please confirm if you would like me to proceed with this?', additional_kwargs={}, response_metadata={}, name='information_node', id='f88f816c-4721-4cf8-a8ec-d602457eb58d'), AIMessage(content='The available slots for a general dentist on 8th August 2024 do not include an 8 PM option. Here are the available slots:\\n\\n- **Emily Johnson:**\\n  - 8:00 AM\\n  - 8:30 AM\\n  - 10:00 AM\\n  - 10:30 AM\\n  - 11:00 AM\\n  - 11:30 AM\\n  - 12:00 PM\\n  - 12:30 PM\\n  - 1:30 PM\\n  - 2:30 PM\\n  - 3:30 PM\\n  - 4:30 PM\\n\\n- **John Doe:**\\n  - 8:00 AM\\n  - 9:00 AM\\n  - 9:30 AM\\n  - 10:00 AM\\n  - 12:00 PM\\n  - 1:30 PM\\n  - 2:00 PM\\n  - 3:00 PM\\n  - 3:30 PM\\n  - 4:00 PM\\n  - 4:30 PM\\n\\nPlease let me know if you would like to book any of these available slots.', additional_kwargs={}, response_metadata={}, name='information_node', id='0c4d6c9d-c06d-4180-86e6-b696d585fb69'), AIMessage(content='The available slots for a general dentist on 8th August 2024 do not include an 8 PM option. Here are the available slots:\\n\\n- **Emily Johnson:**\\n  - 8:00 AM\\n  - 8:30 AM\\n  - 10:00 AM\\n  - 10:30 AM\\n  - 11:00 AM\\n  - 11:30 AM\\n  - 12:00 PM\\n  - 12:30 PM\\n  - 1:30 PM\\n  - 2:30 PM\\n  - 3:30 PM\\n  - 4:30 PM\\n\\n- **John Doe:**\\n  - 8:00 AM\\n  - 9:00 AM\\n  - 9:30 AM\\n  - 10:00 AM\\n  - 12:00 PM\\n  - 1:30 PM\\n  - 2:00 PM\\n  - 3:00 PM\\n  - 3:30 PM\\n  - 4:00 PM\\n  - 4:30 PM\\n\\nPlease let me know if you would like to book any of these available slots.', additional_kwargs={}, response_metadata={}, name='booking_node', id='696f2ec9-8cd0-4f3e-b0e5-c69a0177b727'), AIMessage(content='The available slots for a general dentist on 8th August 2024 do not include an 8 PM option. Here are the available slots:\\n\\n- **Emily Johnson:**\\n  - 8:00 AM\\n  - 8:30 AM\\n  - 10:00 AM\\n  - 10:30 AM\\n  - 11:00 AM\\n  - 11:30 AM\\n  - 12:00 PM\\n  - 12:30 PM\\n  - 1:30 PM\\n  - 2:30 PM\\n  - 3:30 PM\\n  - 4:30 PM\\n\\n- **John Doe:**\\n  - 8:00 AM\\n  - 9:00 AM\\n  - 9:30 AM\\n  - 10:00 AM\\n  - 12:00 PM\\n  - 1:30 PM\\n  - 2:00 PM\\n  - 3:00 PM\\n  - 3:30 PM\\n  - 4:00 PM\\n  - 4:30 PM\\n\\nPlease let me know if you would like to book any of these available slots.', additional_kwargs={}, response_metadata={}, name='information_node', id='e884f6cd-3983-457a-81dd-9c6e72403cbc')], 'id_number': 10232303, 'next': 'information_node', 'query': 'can you check and make a booking if general dentist available on 8 August 2024 at 8 PM?', 'current_reasoning': 'First, I need to verify the availability of a general dentist on the specified date and time before proceeding with the booking.'}\n",
      "**************************below is my state right after entering****************************\n",
      "{'messages': [HumanMessage(content='can you check and make a booking if general dentist available on 8 August 2024 at 8 PM?', additional_kwargs={}, response_metadata={}, id='baa3ff76-81db-41e1-9c8d-0573c6b83768'), HumanMessage(content=\"user's identification number is 10232303\", additional_kwargs={}, response_metadata={}, id='dcd8d44e-3528-4c11-922c-ed4be96acba5'), AIMessage(content='The available slots for a general dentist on 8th August 2024 do not include an 8 PM option. Here are the available slots:\\n\\n- **Emily Johnson:**\\n  - 8:00 AM\\n  - 8:30 AM\\n  - 10:00 AM\\n  - 10:30 AM\\n  - 11:00 AM\\n  - 11:30 AM\\n  - 12:00 PM\\n  - 12:30 PM\\n  - 1:30 PM\\n  - 2:30 PM\\n  - 3:30 PM\\n  - 4:30 PM\\n\\n- **John Doe:**\\n  - 8:00 AM\\n  - 9:00 AM\\n  - 9:30 AM\\n  - 10:00 AM\\n  - 12:00 PM\\n  - 1:30 PM\\n  - 2:00 PM\\n  - 3:00 PM\\n  - 3:30 PM\\n  - 4:00 PM\\n  - 4:30 PM\\n\\nPlease let me know if you would like to book any of these available slots.', additional_kwargs={}, response_metadata={}, name='information_node', id='5ff96335-d96b-40ad-b96f-035d02f5503f'), AIMessage(content='Would you like to book an available slot with either Emily Johnson or John Doe on 8th August 2024? Please let me know your preferred time.', additional_kwargs={}, response_metadata={}, name='booking_node', id='bdeffc3c-7ec5-4237-bcfa-51fe75178734'), AIMessage(content='I can check the availability for a general dentist on 8th August 2024 at 8 PM. Could you please confirm if you would like me to proceed with this?', additional_kwargs={}, response_metadata={}, name='information_node', id='f88f816c-4721-4cf8-a8ec-d602457eb58d'), AIMessage(content='The available slots for a general dentist on 8th August 2024 do not include an 8 PM option. Here are the available slots:\\n\\n- **Emily Johnson:**\\n  - 8:00 AM\\n  - 8:30 AM\\n  - 10:00 AM\\n  - 10:30 AM\\n  - 11:00 AM\\n  - 11:30 AM\\n  - 12:00 PM\\n  - 12:30 PM\\n  - 1:30 PM\\n  - 2:30 PM\\n  - 3:30 PM\\n  - 4:30 PM\\n\\n- **John Doe:**\\n  - 8:00 AM\\n  - 9:00 AM\\n  - 9:30 AM\\n  - 10:00 AM\\n  - 12:00 PM\\n  - 1:30 PM\\n  - 2:00 PM\\n  - 3:00 PM\\n  - 3:30 PM\\n  - 4:00 PM\\n  - 4:30 PM\\n\\nPlease let me know if you would like to book any of these available slots.', additional_kwargs={}, response_metadata={}, name='information_node', id='0c4d6c9d-c06d-4180-86e6-b696d585fb69'), AIMessage(content='The available slots for a general dentist on 8th August 2024 do not include an 8 PM option. Here are the available slots:\\n\\n- **Emily Johnson:**\\n  - 8:00 AM\\n  - 8:30 AM\\n  - 10:00 AM\\n  - 10:30 AM\\n  - 11:00 AM\\n  - 11:30 AM\\n  - 12:00 PM\\n  - 12:30 PM\\n  - 1:30 PM\\n  - 2:30 PM\\n  - 3:30 PM\\n  - 4:30 PM\\n\\n- **John Doe:**\\n  - 8:00 AM\\n  - 9:00 AM\\n  - 9:30 AM\\n  - 10:00 AM\\n  - 12:00 PM\\n  - 1:30 PM\\n  - 2:00 PM\\n  - 3:00 PM\\n  - 3:30 PM\\n  - 4:00 PM\\n  - 4:30 PM\\n\\nPlease let me know if you would like to book any of these available slots.', additional_kwargs={}, response_metadata={}, name='booking_node', id='696f2ec9-8cd0-4f3e-b0e5-c69a0177b727'), AIMessage(content='The available slots for a general dentist on 8th August 2024 do not include an 8 PM option. Here are the available slots:\\n\\n- **Emily Johnson:**\\n  - 8:00 AM\\n  - 8:30 AM\\n  - 10:00 AM\\n  - 10:30 AM\\n  - 11:00 AM\\n  - 11:30 AM\\n  - 12:00 PM\\n  - 12:30 PM\\n  - 1:30 PM\\n  - 2:30 PM\\n  - 3:30 PM\\n  - 4:30 PM\\n\\n- **John Doe:**\\n  - 8:00 AM\\n  - 9:00 AM\\n  - 9:30 AM\\n  - 10:00 AM\\n  - 12:00 PM\\n  - 1:30 PM\\n  - 2:00 PM\\n  - 3:00 PM\\n  - 3:30 PM\\n  - 4:00 PM\\n  - 4:30 PM\\n\\nPlease let me know if you would like to book any of these available slots.', additional_kwargs={}, response_metadata={}, name='information_node', id='e884f6cd-3983-457a-81dd-9c6e72403cbc'), AIMessage(content='The available slots for a general dentist on 8th August 2024 do not include an 8 PM option. Here are the available slots:\\n\\n- **Emily Johnson:**\\n  - 8:00 AM\\n  - 8:30 AM\\n  - 10:00 AM\\n  - 10:30 AM\\n  - 11:00 AM\\n  - 11:30 AM\\n  - 12:00 PM\\n  - 12:30 PM\\n  - 1:30 PM\\n  - 2:30 PM\\n  - 3:30 PM\\n  - 4:30 PM\\n\\n- **John Doe:**\\n  - 8:00 AM\\n  - 9:00 AM\\n  - 9:30 AM\\n  - 10:00 AM\\n  - 12:00 PM\\n  - 1:30 PM\\n  - 2:00 PM\\n  - 3:00 PM\\n  - 3:30 PM\\n  - 4:00 PM\\n  - 4:30 PM\\n\\nPlease let me know if you would like to book any of these available slots.', additional_kwargs={}, response_metadata={}, name='booking_node', id='1b91ec38-4668-49c0-8771-c0982e3c2ada')], 'id_number': 10232303, 'next': 'booking_node', 'query': 'can you check and make a booking if general dentist available on 8 August 2024 at 8 PM?', 'current_reasoning': 'The user wants to make a booking for a general dentist appointment. Since the requested slot at 8 PM is not available, I will ask the booking_node to help the user book an available slot.'}\n",
      "***********************this is my message*****************************************\n",
      "[{'role': 'system', 'content': \"You are a supervisor tasked with managing a conversation between following workers. ### SPECIALIZED ASSISTANT:\\nWORKER: information_node \\nDESCRIPTION: specialized agent to provide information related to availability of doctors or any FAQs related to hospital.\\n\\nWORKER: booking_node \\nDESCRIPTION: specialized agent to only to book, cancel or reschedule appointment\\n\\nWORKER: FINISH \\nDESCRIPTION: If User Query is answered and route to Finished\\n\\nYour primary role is to help the user make an appointment with the doctor and provide updates on FAQs and doctor's availability. If a customer requests to know the availability of a doctor or to book, reschedule, or cancel an appointment, delegate the task to the appropriate specialized workers. Given the following user request, respond with the worker to act next. Each worker will perform a task and respond with their results and status. When finished, respond with FINISH.UTILIZE last conversation to assess if the conversation should end you answered the query, then route to FINISH \"}, {'role': 'user', 'content': \"user's identification number is 10232303\"}, HumanMessage(content='can you check and make a booking if general dentist available on 8 August 2024 at 8 PM?', additional_kwargs={}, response_metadata={}, id='baa3ff76-81db-41e1-9c8d-0573c6b83768'), HumanMessage(content=\"user's identification number is 10232303\", additional_kwargs={}, response_metadata={}, id='dcd8d44e-3528-4c11-922c-ed4be96acba5'), AIMessage(content='The available slots for a general dentist on 8th August 2024 do not include an 8 PM option. Here are the available slots:\\n\\n- **Emily Johnson:**\\n  - 8:00 AM\\n  - 8:30 AM\\n  - 10:00 AM\\n  - 10:30 AM\\n  - 11:00 AM\\n  - 11:30 AM\\n  - 12:00 PM\\n  - 12:30 PM\\n  - 1:30 PM\\n  - 2:30 PM\\n  - 3:30 PM\\n  - 4:30 PM\\n\\n- **John Doe:**\\n  - 8:00 AM\\n  - 9:00 AM\\n  - 9:30 AM\\n  - 10:00 AM\\n  - 12:00 PM\\n  - 1:30 PM\\n  - 2:00 PM\\n  - 3:00 PM\\n  - 3:30 PM\\n  - 4:00 PM\\n  - 4:30 PM\\n\\nPlease let me know if you would like to book any of these available slots.', additional_kwargs={}, response_metadata={}, name='information_node', id='5ff96335-d96b-40ad-b96f-035d02f5503f'), AIMessage(content='Would you like to book an available slot with either Emily Johnson or John Doe on 8th August 2024? Please let me know your preferred time.', additional_kwargs={}, response_metadata={}, name='booking_node', id='bdeffc3c-7ec5-4237-bcfa-51fe75178734'), AIMessage(content='I can check the availability for a general dentist on 8th August 2024 at 8 PM. Could you please confirm if you would like me to proceed with this?', additional_kwargs={}, response_metadata={}, name='information_node', id='f88f816c-4721-4cf8-a8ec-d602457eb58d'), AIMessage(content='The available slots for a general dentist on 8th August 2024 do not include an 8 PM option. Here are the available slots:\\n\\n- **Emily Johnson:**\\n  - 8:00 AM\\n  - 8:30 AM\\n  - 10:00 AM\\n  - 10:30 AM\\n  - 11:00 AM\\n  - 11:30 AM\\n  - 12:00 PM\\n  - 12:30 PM\\n  - 1:30 PM\\n  - 2:30 PM\\n  - 3:30 PM\\n  - 4:30 PM\\n\\n- **John Doe:**\\n  - 8:00 AM\\n  - 9:00 AM\\n  - 9:30 AM\\n  - 10:00 AM\\n  - 12:00 PM\\n  - 1:30 PM\\n  - 2:00 PM\\n  - 3:00 PM\\n  - 3:30 PM\\n  - 4:00 PM\\n  - 4:30 PM\\n\\nPlease let me know if you would like to book any of these available slots.', additional_kwargs={}, response_metadata={}, name='information_node', id='0c4d6c9d-c06d-4180-86e6-b696d585fb69'), AIMessage(content='The available slots for a general dentist on 8th August 2024 do not include an 8 PM option. Here are the available slots:\\n\\n- **Emily Johnson:**\\n  - 8:00 AM\\n  - 8:30 AM\\n  - 10:00 AM\\n  - 10:30 AM\\n  - 11:00 AM\\n  - 11:30 AM\\n  - 12:00 PM\\n  - 12:30 PM\\n  - 1:30 PM\\n  - 2:30 PM\\n  - 3:30 PM\\n  - 4:30 PM\\n\\n- **John Doe:**\\n  - 8:00 AM\\n  - 9:00 AM\\n  - 9:30 AM\\n  - 10:00 AM\\n  - 12:00 PM\\n  - 1:30 PM\\n  - 2:00 PM\\n  - 3:00 PM\\n  - 3:30 PM\\n  - 4:00 PM\\n  - 4:30 PM\\n\\nPlease let me know if you would like to book any of these available slots.', additional_kwargs={}, response_metadata={}, name='booking_node', id='696f2ec9-8cd0-4f3e-b0e5-c69a0177b727'), AIMessage(content='The available slots for a general dentist on 8th August 2024 do not include an 8 PM option. Here are the available slots:\\n\\n- **Emily Johnson:**\\n  - 8:00 AM\\n  - 8:30 AM\\n  - 10:00 AM\\n  - 10:30 AM\\n  - 11:00 AM\\n  - 11:30 AM\\n  - 12:00 PM\\n  - 12:30 PM\\n  - 1:30 PM\\n  - 2:30 PM\\n  - 3:30 PM\\n  - 4:30 PM\\n\\n- **John Doe:**\\n  - 8:00 AM\\n  - 9:00 AM\\n  - 9:30 AM\\n  - 10:00 AM\\n  - 12:00 PM\\n  - 1:30 PM\\n  - 2:00 PM\\n  - 3:00 PM\\n  - 3:30 PM\\n  - 4:00 PM\\n  - 4:30 PM\\n\\nPlease let me know if you would like to book any of these available slots.', additional_kwargs={}, response_metadata={}, name='information_node', id='e884f6cd-3983-457a-81dd-9c6e72403cbc'), AIMessage(content='The available slots for a general dentist on 8th August 2024 do not include an 8 PM option. Here are the available slots:\\n\\n- **Emily Johnson:**\\n  - 8:00 AM\\n  - 8:30 AM\\n  - 10:00 AM\\n  - 10:30 AM\\n  - 11:00 AM\\n  - 11:30 AM\\n  - 12:00 PM\\n  - 12:30 PM\\n  - 1:30 PM\\n  - 2:30 PM\\n  - 3:30 PM\\n  - 4:30 PM\\n\\n- **John Doe:**\\n  - 8:00 AM\\n  - 9:00 AM\\n  - 9:30 AM\\n  - 10:00 AM\\n  - 12:00 PM\\n  - 1:30 PM\\n  - 2:00 PM\\n  - 3:00 PM\\n  - 3:30 PM\\n  - 4:00 PM\\n  - 4:30 PM\\n\\nPlease let me know if you would like to book any of these available slots.', additional_kwargs={}, response_metadata={}, name='booking_node', id='1b91ec38-4668-49c0-8771-c0982e3c2ada')]\n",
      "************below is my query********************\n",
      "\n",
      "********************************this is my goto*************************\n",
      "booking_node\n",
      "********************************\n",
      "The user is looking to book an appointment with a general dentist. Since the requested time is not available, I've provided alternative time slots. Now, the booking_node is needed to proceed with scheduling an appointment if the user chooses an available slot.\n",
      "**************************below is my state****************************\n",
      "{'messages': [HumanMessage(content='can you check and make a booking if general dentist available on 8 August 2024 at 8 PM?', additional_kwargs={}, response_metadata={}, id='baa3ff76-81db-41e1-9c8d-0573c6b83768'), HumanMessage(content=\"user's identification number is 10232303\", additional_kwargs={}, response_metadata={}, id='dcd8d44e-3528-4c11-922c-ed4be96acba5'), AIMessage(content='The available slots for a general dentist on 8th August 2024 do not include an 8 PM option. Here are the available slots:\\n\\n- **Emily Johnson:**\\n  - 8:00 AM\\n  - 8:30 AM\\n  - 10:00 AM\\n  - 10:30 AM\\n  - 11:00 AM\\n  - 11:30 AM\\n  - 12:00 PM\\n  - 12:30 PM\\n  - 1:30 PM\\n  - 2:30 PM\\n  - 3:30 PM\\n  - 4:30 PM\\n\\n- **John Doe:**\\n  - 8:00 AM\\n  - 9:00 AM\\n  - 9:30 AM\\n  - 10:00 AM\\n  - 12:00 PM\\n  - 1:30 PM\\n  - 2:00 PM\\n  - 3:00 PM\\n  - 3:30 PM\\n  - 4:00 PM\\n  - 4:30 PM\\n\\nPlease let me know if you would like to book any of these available slots.', additional_kwargs={}, response_metadata={}, name='information_node', id='5ff96335-d96b-40ad-b96f-035d02f5503f'), AIMessage(content='Would you like to book an available slot with either Emily Johnson or John Doe on 8th August 2024? Please let me know your preferred time.', additional_kwargs={}, response_metadata={}, name='booking_node', id='bdeffc3c-7ec5-4237-bcfa-51fe75178734'), AIMessage(content='I can check the availability for a general dentist on 8th August 2024 at 8 PM. Could you please confirm if you would like me to proceed with this?', additional_kwargs={}, response_metadata={}, name='information_node', id='f88f816c-4721-4cf8-a8ec-d602457eb58d'), AIMessage(content='The available slots for a general dentist on 8th August 2024 do not include an 8 PM option. Here are the available slots:\\n\\n- **Emily Johnson:**\\n  - 8:00 AM\\n  - 8:30 AM\\n  - 10:00 AM\\n  - 10:30 AM\\n  - 11:00 AM\\n  - 11:30 AM\\n  - 12:00 PM\\n  - 12:30 PM\\n  - 1:30 PM\\n  - 2:30 PM\\n  - 3:30 PM\\n  - 4:30 PM\\n\\n- **John Doe:**\\n  - 8:00 AM\\n  - 9:00 AM\\n  - 9:30 AM\\n  - 10:00 AM\\n  - 12:00 PM\\n  - 1:30 PM\\n  - 2:00 PM\\n  - 3:00 PM\\n  - 3:30 PM\\n  - 4:00 PM\\n  - 4:30 PM\\n\\nPlease let me know if you would like to book any of these available slots.', additional_kwargs={}, response_metadata={}, name='information_node', id='0c4d6c9d-c06d-4180-86e6-b696d585fb69'), AIMessage(content='The available slots for a general dentist on 8th August 2024 do not include an 8 PM option. Here are the available slots:\\n\\n- **Emily Johnson:**\\n  - 8:00 AM\\n  - 8:30 AM\\n  - 10:00 AM\\n  - 10:30 AM\\n  - 11:00 AM\\n  - 11:30 AM\\n  - 12:00 PM\\n  - 12:30 PM\\n  - 1:30 PM\\n  - 2:30 PM\\n  - 3:30 PM\\n  - 4:30 PM\\n\\n- **John Doe:**\\n  - 8:00 AM\\n  - 9:00 AM\\n  - 9:30 AM\\n  - 10:00 AM\\n  - 12:00 PM\\n  - 1:30 PM\\n  - 2:00 PM\\n  - 3:00 PM\\n  - 3:30 PM\\n  - 4:00 PM\\n  - 4:30 PM\\n\\nPlease let me know if you would like to book any of these available slots.', additional_kwargs={}, response_metadata={}, name='booking_node', id='696f2ec9-8cd0-4f3e-b0e5-c69a0177b727'), AIMessage(content='The available slots for a general dentist on 8th August 2024 do not include an 8 PM option. Here are the available slots:\\n\\n- **Emily Johnson:**\\n  - 8:00 AM\\n  - 8:30 AM\\n  - 10:00 AM\\n  - 10:30 AM\\n  - 11:00 AM\\n  - 11:30 AM\\n  - 12:00 PM\\n  - 12:30 PM\\n  - 1:30 PM\\n  - 2:30 PM\\n  - 3:30 PM\\n  - 4:30 PM\\n\\n- **John Doe:**\\n  - 8:00 AM\\n  - 9:00 AM\\n  - 9:30 AM\\n  - 10:00 AM\\n  - 12:00 PM\\n  - 1:30 PM\\n  - 2:00 PM\\n  - 3:00 PM\\n  - 3:30 PM\\n  - 4:00 PM\\n  - 4:30 PM\\n\\nPlease let me know if you would like to book any of these available slots.', additional_kwargs={}, response_metadata={}, name='information_node', id='e884f6cd-3983-457a-81dd-9c6e72403cbc'), AIMessage(content='The available slots for a general dentist on 8th August 2024 do not include an 8 PM option. Here are the available slots:\\n\\n- **Emily Johnson:**\\n  - 8:00 AM\\n  - 8:30 AM\\n  - 10:00 AM\\n  - 10:30 AM\\n  - 11:00 AM\\n  - 11:30 AM\\n  - 12:00 PM\\n  - 12:30 PM\\n  - 1:30 PM\\n  - 2:30 PM\\n  - 3:30 PM\\n  - 4:30 PM\\n\\n- **John Doe:**\\n  - 8:00 AM\\n  - 9:00 AM\\n  - 9:30 AM\\n  - 10:00 AM\\n  - 12:00 PM\\n  - 1:30 PM\\n  - 2:00 PM\\n  - 3:00 PM\\n  - 3:30 PM\\n  - 4:00 PM\\n  - 4:30 PM\\n\\nPlease let me know if you would like to book any of these available slots.', additional_kwargs={}, response_metadata={}, name='booking_node', id='1b91ec38-4668-49c0-8771-c0982e3c2ada')], 'id_number': 10232303, 'next': 'booking_node', 'query': 'can you check and make a booking if general dentist available on 8 August 2024 at 8 PM?', 'current_reasoning': 'The user wants to make a booking for a general dentist appointment. Since the requested slot at 8 PM is not available, I will ask the booking_node to help the user book an available slot.'}\n",
      "**************************below is my state right after entering****************************\n",
      "{'messages': [HumanMessage(content='can you check and make a booking if general dentist available on 8 August 2024 at 8 PM?', additional_kwargs={}, response_metadata={}, id='baa3ff76-81db-41e1-9c8d-0573c6b83768'), HumanMessage(content=\"user's identification number is 10232303\", additional_kwargs={}, response_metadata={}, id='dcd8d44e-3528-4c11-922c-ed4be96acba5'), AIMessage(content='The available slots for a general dentist on 8th August 2024 do not include an 8 PM option. Here are the available slots:\\n\\n- **Emily Johnson:**\\n  - 8:00 AM\\n  - 8:30 AM\\n  - 10:00 AM\\n  - 10:30 AM\\n  - 11:00 AM\\n  - 11:30 AM\\n  - 12:00 PM\\n  - 12:30 PM\\n  - 1:30 PM\\n  - 2:30 PM\\n  - 3:30 PM\\n  - 4:30 PM\\n\\n- **John Doe:**\\n  - 8:00 AM\\n  - 9:00 AM\\n  - 9:30 AM\\n  - 10:00 AM\\n  - 12:00 PM\\n  - 1:30 PM\\n  - 2:00 PM\\n  - 3:00 PM\\n  - 3:30 PM\\n  - 4:00 PM\\n  - 4:30 PM\\n\\nPlease let me know if you would like to book any of these available slots.', additional_kwargs={}, response_metadata={}, name='information_node', id='5ff96335-d96b-40ad-b96f-035d02f5503f'), AIMessage(content='Would you like to book an available slot with either Emily Johnson or John Doe on 8th August 2024? Please let me know your preferred time.', additional_kwargs={}, response_metadata={}, name='booking_node', id='bdeffc3c-7ec5-4237-bcfa-51fe75178734'), AIMessage(content='I can check the availability for a general dentist on 8th August 2024 at 8 PM. Could you please confirm if you would like me to proceed with this?', additional_kwargs={}, response_metadata={}, name='information_node', id='f88f816c-4721-4cf8-a8ec-d602457eb58d'), AIMessage(content='The available slots for a general dentist on 8th August 2024 do not include an 8 PM option. Here are the available slots:\\n\\n- **Emily Johnson:**\\n  - 8:00 AM\\n  - 8:30 AM\\n  - 10:00 AM\\n  - 10:30 AM\\n  - 11:00 AM\\n  - 11:30 AM\\n  - 12:00 PM\\n  - 12:30 PM\\n  - 1:30 PM\\n  - 2:30 PM\\n  - 3:30 PM\\n  - 4:30 PM\\n\\n- **John Doe:**\\n  - 8:00 AM\\n  - 9:00 AM\\n  - 9:30 AM\\n  - 10:00 AM\\n  - 12:00 PM\\n  - 1:30 PM\\n  - 2:00 PM\\n  - 3:00 PM\\n  - 3:30 PM\\n  - 4:00 PM\\n  - 4:30 PM\\n\\nPlease let me know if you would like to book any of these available slots.', additional_kwargs={}, response_metadata={}, name='information_node', id='0c4d6c9d-c06d-4180-86e6-b696d585fb69'), AIMessage(content='The available slots for a general dentist on 8th August 2024 do not include an 8 PM option. Here are the available slots:\\n\\n- **Emily Johnson:**\\n  - 8:00 AM\\n  - 8:30 AM\\n  - 10:00 AM\\n  - 10:30 AM\\n  - 11:00 AM\\n  - 11:30 AM\\n  - 12:00 PM\\n  - 12:30 PM\\n  - 1:30 PM\\n  - 2:30 PM\\n  - 3:30 PM\\n  - 4:30 PM\\n\\n- **John Doe:**\\n  - 8:00 AM\\n  - 9:00 AM\\n  - 9:30 AM\\n  - 10:00 AM\\n  - 12:00 PM\\n  - 1:30 PM\\n  - 2:00 PM\\n  - 3:00 PM\\n  - 3:30 PM\\n  - 4:00 PM\\n  - 4:30 PM\\n\\nPlease let me know if you would like to book any of these available slots.', additional_kwargs={}, response_metadata={}, name='booking_node', id='696f2ec9-8cd0-4f3e-b0e5-c69a0177b727'), AIMessage(content='The available slots for a general dentist on 8th August 2024 do not include an 8 PM option. Here are the available slots:\\n\\n- **Emily Johnson:**\\n  - 8:00 AM\\n  - 8:30 AM\\n  - 10:00 AM\\n  - 10:30 AM\\n  - 11:00 AM\\n  - 11:30 AM\\n  - 12:00 PM\\n  - 12:30 PM\\n  - 1:30 PM\\n  - 2:30 PM\\n  - 3:30 PM\\n  - 4:30 PM\\n\\n- **John Doe:**\\n  - 8:00 AM\\n  - 9:00 AM\\n  - 9:30 AM\\n  - 10:00 AM\\n  - 12:00 PM\\n  - 1:30 PM\\n  - 2:00 PM\\n  - 3:00 PM\\n  - 3:30 PM\\n  - 4:00 PM\\n  - 4:30 PM\\n\\nPlease let me know if you would like to book any of these available slots.', additional_kwargs={}, response_metadata={}, name='information_node', id='e884f6cd-3983-457a-81dd-9c6e72403cbc'), AIMessage(content='The available slots for a general dentist on 8th August 2024 do not include an 8 PM option. Here are the available slots:\\n\\n- **Emily Johnson:**\\n  - 8:00 AM\\n  - 8:30 AM\\n  - 10:00 AM\\n  - 10:30 AM\\n  - 11:00 AM\\n  - 11:30 AM\\n  - 12:00 PM\\n  - 12:30 PM\\n  - 1:30 PM\\n  - 2:30 PM\\n  - 3:30 PM\\n  - 4:30 PM\\n\\n- **John Doe:**\\n  - 8:00 AM\\n  - 9:00 AM\\n  - 9:30 AM\\n  - 10:00 AM\\n  - 12:00 PM\\n  - 1:30 PM\\n  - 2:00 PM\\n  - 3:00 PM\\n  - 3:30 PM\\n  - 4:00 PM\\n  - 4:30 PM\\n\\nPlease let me know if you would like to book any of these available slots.', additional_kwargs={}, response_metadata={}, name='booking_node', id='1b91ec38-4668-49c0-8771-c0982e3c2ada'), AIMessage(content='The available slots for a general dentist on 8th August 2024 do not include an 8 PM option. Here are the available slots:\\n\\n- **Emily Johnson:**\\n  - 8:00 AM\\n  - 8:30 AM\\n  - 10:00 AM\\n  - 10:30 AM\\n  - 11:00 AM\\n  - 11:30 AM\\n  - 12:00 PM\\n  - 12:30 PM\\n  - 1:30 PM\\n  - 2:30 PM\\n  - 3:30 PM\\n  - 4:30 PM\\n\\n- **John Doe:**\\n  - 8:00 AM\\n  - 9:00 AM\\n  - 9:30 AM\\n  - 10:00 AM\\n  - 12:00 PM\\n  - 1:30 PM\\n  - 2:00 PM\\n  - 3:00 PM\\n  - 3:30 PM\\n  - 4:00 PM\\n  - 4:30 PM\\n\\nPlease let me know if you would like to book any of these available slots.', additional_kwargs={}, response_metadata={}, name='booking_node', id='ea19e264-e2e9-4c69-aec1-b3c06031c30f')], 'id_number': 10232303, 'next': 'booking_node', 'query': 'can you check and make a booking if general dentist available on 8 August 2024 at 8 PM?', 'current_reasoning': \"The user is looking to book an appointment with a general dentist. Since the requested time is not available, I've provided alternative time slots. Now, the booking_node is needed to proceed with scheduling an appointment if the user chooses an available slot.\"}\n",
      "***********************this is my message*****************************************\n",
      "[{'role': 'system', 'content': \"You are a supervisor tasked with managing a conversation between following workers. ### SPECIALIZED ASSISTANT:\\nWORKER: information_node \\nDESCRIPTION: specialized agent to provide information related to availability of doctors or any FAQs related to hospital.\\n\\nWORKER: booking_node \\nDESCRIPTION: specialized agent to only to book, cancel or reschedule appointment\\n\\nWORKER: FINISH \\nDESCRIPTION: If User Query is answered and route to Finished\\n\\nYour primary role is to help the user make an appointment with the doctor and provide updates on FAQs and doctor's availability. If a customer requests to know the availability of a doctor or to book, reschedule, or cancel an appointment, delegate the task to the appropriate specialized workers. Given the following user request, respond with the worker to act next. Each worker will perform a task and respond with their results and status. When finished, respond with FINISH.UTILIZE last conversation to assess if the conversation should end you answered the query, then route to FINISH \"}, {'role': 'user', 'content': \"user's identification number is 10232303\"}, HumanMessage(content='can you check and make a booking if general dentist available on 8 August 2024 at 8 PM?', additional_kwargs={}, response_metadata={}, id='baa3ff76-81db-41e1-9c8d-0573c6b83768'), HumanMessage(content=\"user's identification number is 10232303\", additional_kwargs={}, response_metadata={}, id='dcd8d44e-3528-4c11-922c-ed4be96acba5'), AIMessage(content='The available slots for a general dentist on 8th August 2024 do not include an 8 PM option. Here are the available slots:\\n\\n- **Emily Johnson:**\\n  - 8:00 AM\\n  - 8:30 AM\\n  - 10:00 AM\\n  - 10:30 AM\\n  - 11:00 AM\\n  - 11:30 AM\\n  - 12:00 PM\\n  - 12:30 PM\\n  - 1:30 PM\\n  - 2:30 PM\\n  - 3:30 PM\\n  - 4:30 PM\\n\\n- **John Doe:**\\n  - 8:00 AM\\n  - 9:00 AM\\n  - 9:30 AM\\n  - 10:00 AM\\n  - 12:00 PM\\n  - 1:30 PM\\n  - 2:00 PM\\n  - 3:00 PM\\n  - 3:30 PM\\n  - 4:00 PM\\n  - 4:30 PM\\n\\nPlease let me know if you would like to book any of these available slots.', additional_kwargs={}, response_metadata={}, name='information_node', id='5ff96335-d96b-40ad-b96f-035d02f5503f'), AIMessage(content='Would you like to book an available slot with either Emily Johnson or John Doe on 8th August 2024? Please let me know your preferred time.', additional_kwargs={}, response_metadata={}, name='booking_node', id='bdeffc3c-7ec5-4237-bcfa-51fe75178734'), AIMessage(content='I can check the availability for a general dentist on 8th August 2024 at 8 PM. Could you please confirm if you would like me to proceed with this?', additional_kwargs={}, response_metadata={}, name='information_node', id='f88f816c-4721-4cf8-a8ec-d602457eb58d'), AIMessage(content='The available slots for a general dentist on 8th August 2024 do not include an 8 PM option. Here are the available slots:\\n\\n- **Emily Johnson:**\\n  - 8:00 AM\\n  - 8:30 AM\\n  - 10:00 AM\\n  - 10:30 AM\\n  - 11:00 AM\\n  - 11:30 AM\\n  - 12:00 PM\\n  - 12:30 PM\\n  - 1:30 PM\\n  - 2:30 PM\\n  - 3:30 PM\\n  - 4:30 PM\\n\\n- **John Doe:**\\n  - 8:00 AM\\n  - 9:00 AM\\n  - 9:30 AM\\n  - 10:00 AM\\n  - 12:00 PM\\n  - 1:30 PM\\n  - 2:00 PM\\n  - 3:00 PM\\n  - 3:30 PM\\n  - 4:00 PM\\n  - 4:30 PM\\n\\nPlease let me know if you would like to book any of these available slots.', additional_kwargs={}, response_metadata={}, name='information_node', id='0c4d6c9d-c06d-4180-86e6-b696d585fb69'), AIMessage(content='The available slots for a general dentist on 8th August 2024 do not include an 8 PM option. Here are the available slots:\\n\\n- **Emily Johnson:**\\n  - 8:00 AM\\n  - 8:30 AM\\n  - 10:00 AM\\n  - 10:30 AM\\n  - 11:00 AM\\n  - 11:30 AM\\n  - 12:00 PM\\n  - 12:30 PM\\n  - 1:30 PM\\n  - 2:30 PM\\n  - 3:30 PM\\n  - 4:30 PM\\n\\n- **John Doe:**\\n  - 8:00 AM\\n  - 9:00 AM\\n  - 9:30 AM\\n  - 10:00 AM\\n  - 12:00 PM\\n  - 1:30 PM\\n  - 2:00 PM\\n  - 3:00 PM\\n  - 3:30 PM\\n  - 4:00 PM\\n  - 4:30 PM\\n\\nPlease let me know if you would like to book any of these available slots.', additional_kwargs={}, response_metadata={}, name='booking_node', id='696f2ec9-8cd0-4f3e-b0e5-c69a0177b727'), AIMessage(content='The available slots for a general dentist on 8th August 2024 do not include an 8 PM option. Here are the available slots:\\n\\n- **Emily Johnson:**\\n  - 8:00 AM\\n  - 8:30 AM\\n  - 10:00 AM\\n  - 10:30 AM\\n  - 11:00 AM\\n  - 11:30 AM\\n  - 12:00 PM\\n  - 12:30 PM\\n  - 1:30 PM\\n  - 2:30 PM\\n  - 3:30 PM\\n  - 4:30 PM\\n\\n- **John Doe:**\\n  - 8:00 AM\\n  - 9:00 AM\\n  - 9:30 AM\\n  - 10:00 AM\\n  - 12:00 PM\\n  - 1:30 PM\\n  - 2:00 PM\\n  - 3:00 PM\\n  - 3:30 PM\\n  - 4:00 PM\\n  - 4:30 PM\\n\\nPlease let me know if you would like to book any of these available slots.', additional_kwargs={}, response_metadata={}, name='information_node', id='e884f6cd-3983-457a-81dd-9c6e72403cbc'), AIMessage(content='The available slots for a general dentist on 8th August 2024 do not include an 8 PM option. Here are the available slots:\\n\\n- **Emily Johnson:**\\n  - 8:00 AM\\n  - 8:30 AM\\n  - 10:00 AM\\n  - 10:30 AM\\n  - 11:00 AM\\n  - 11:30 AM\\n  - 12:00 PM\\n  - 12:30 PM\\n  - 1:30 PM\\n  - 2:30 PM\\n  - 3:30 PM\\n  - 4:30 PM\\n\\n- **John Doe:**\\n  - 8:00 AM\\n  - 9:00 AM\\n  - 9:30 AM\\n  - 10:00 AM\\n  - 12:00 PM\\n  - 1:30 PM\\n  - 2:00 PM\\n  - 3:00 PM\\n  - 3:30 PM\\n  - 4:00 PM\\n  - 4:30 PM\\n\\nPlease let me know if you would like to book any of these available slots.', additional_kwargs={}, response_metadata={}, name='booking_node', id='1b91ec38-4668-49c0-8771-c0982e3c2ada'), AIMessage(content='The available slots for a general dentist on 8th August 2024 do not include an 8 PM option. Here are the available slots:\\n\\n- **Emily Johnson:**\\n  - 8:00 AM\\n  - 8:30 AM\\n  - 10:00 AM\\n  - 10:30 AM\\n  - 11:00 AM\\n  - 11:30 AM\\n  - 12:00 PM\\n  - 12:30 PM\\n  - 1:30 PM\\n  - 2:30 PM\\n  - 3:30 PM\\n  - 4:30 PM\\n\\n- **John Doe:**\\n  - 8:00 AM\\n  - 9:00 AM\\n  - 9:30 AM\\n  - 10:00 AM\\n  - 12:00 PM\\n  - 1:30 PM\\n  - 2:00 PM\\n  - 3:00 PM\\n  - 3:30 PM\\n  - 4:00 PM\\n  - 4:30 PM\\n\\nPlease let me know if you would like to book any of these available slots.', additional_kwargs={}, response_metadata={}, name='booking_node', id='ea19e264-e2e9-4c69-aec1-b3c06031c30f')]\n",
      "************below is my query********************\n",
      "\n",
      "********************************this is my goto*************************\n",
      "information_node\n",
      "********************************\n",
      "The user is inquiring about the availability of a general dentist on a specific date and time. I will first check the availability of the general dentist for the requested date and time.\n",
      "**************************below is my state****************************\n",
      "{'messages': [HumanMessage(content='can you check and make a booking if general dentist available on 8 August 2024 at 8 PM?', additional_kwargs={}, response_metadata={}, id='baa3ff76-81db-41e1-9c8d-0573c6b83768'), HumanMessage(content=\"user's identification number is 10232303\", additional_kwargs={}, response_metadata={}, id='dcd8d44e-3528-4c11-922c-ed4be96acba5'), AIMessage(content='The available slots for a general dentist on 8th August 2024 do not include an 8 PM option. Here are the available slots:\\n\\n- **Emily Johnson:**\\n  - 8:00 AM\\n  - 8:30 AM\\n  - 10:00 AM\\n  - 10:30 AM\\n  - 11:00 AM\\n  - 11:30 AM\\n  - 12:00 PM\\n  - 12:30 PM\\n  - 1:30 PM\\n  - 2:30 PM\\n  - 3:30 PM\\n  - 4:30 PM\\n\\n- **John Doe:**\\n  - 8:00 AM\\n  - 9:00 AM\\n  - 9:30 AM\\n  - 10:00 AM\\n  - 12:00 PM\\n  - 1:30 PM\\n  - 2:00 PM\\n  - 3:00 PM\\n  - 3:30 PM\\n  - 4:00 PM\\n  - 4:30 PM\\n\\nPlease let me know if you would like to book any of these available slots.', additional_kwargs={}, response_metadata={}, name='information_node', id='5ff96335-d96b-40ad-b96f-035d02f5503f'), AIMessage(content='Would you like to book an available slot with either Emily Johnson or John Doe on 8th August 2024? Please let me know your preferred time.', additional_kwargs={}, response_metadata={}, name='booking_node', id='bdeffc3c-7ec5-4237-bcfa-51fe75178734'), AIMessage(content='I can check the availability for a general dentist on 8th August 2024 at 8 PM. Could you please confirm if you would like me to proceed with this?', additional_kwargs={}, response_metadata={}, name='information_node', id='f88f816c-4721-4cf8-a8ec-d602457eb58d'), AIMessage(content='The available slots for a general dentist on 8th August 2024 do not include an 8 PM option. Here are the available slots:\\n\\n- **Emily Johnson:**\\n  - 8:00 AM\\n  - 8:30 AM\\n  - 10:00 AM\\n  - 10:30 AM\\n  - 11:00 AM\\n  - 11:30 AM\\n  - 12:00 PM\\n  - 12:30 PM\\n  - 1:30 PM\\n  - 2:30 PM\\n  - 3:30 PM\\n  - 4:30 PM\\n\\n- **John Doe:**\\n  - 8:00 AM\\n  - 9:00 AM\\n  - 9:30 AM\\n  - 10:00 AM\\n  - 12:00 PM\\n  - 1:30 PM\\n  - 2:00 PM\\n  - 3:00 PM\\n  - 3:30 PM\\n  - 4:00 PM\\n  - 4:30 PM\\n\\nPlease let me know if you would like to book any of these available slots.', additional_kwargs={}, response_metadata={}, name='information_node', id='0c4d6c9d-c06d-4180-86e6-b696d585fb69'), AIMessage(content='The available slots for a general dentist on 8th August 2024 do not include an 8 PM option. Here are the available slots:\\n\\n- **Emily Johnson:**\\n  - 8:00 AM\\n  - 8:30 AM\\n  - 10:00 AM\\n  - 10:30 AM\\n  - 11:00 AM\\n  - 11:30 AM\\n  - 12:00 PM\\n  - 12:30 PM\\n  - 1:30 PM\\n  - 2:30 PM\\n  - 3:30 PM\\n  - 4:30 PM\\n\\n- **John Doe:**\\n  - 8:00 AM\\n  - 9:00 AM\\n  - 9:30 AM\\n  - 10:00 AM\\n  - 12:00 PM\\n  - 1:30 PM\\n  - 2:00 PM\\n  - 3:00 PM\\n  - 3:30 PM\\n  - 4:00 PM\\n  - 4:30 PM\\n\\nPlease let me know if you would like to book any of these available slots.', additional_kwargs={}, response_metadata={}, name='booking_node', id='696f2ec9-8cd0-4f3e-b0e5-c69a0177b727'), AIMessage(content='The available slots for a general dentist on 8th August 2024 do not include an 8 PM option. Here are the available slots:\\n\\n- **Emily Johnson:**\\n  - 8:00 AM\\n  - 8:30 AM\\n  - 10:00 AM\\n  - 10:30 AM\\n  - 11:00 AM\\n  - 11:30 AM\\n  - 12:00 PM\\n  - 12:30 PM\\n  - 1:30 PM\\n  - 2:30 PM\\n  - 3:30 PM\\n  - 4:30 PM\\n\\n- **John Doe:**\\n  - 8:00 AM\\n  - 9:00 AM\\n  - 9:30 AM\\n  - 10:00 AM\\n  - 12:00 PM\\n  - 1:30 PM\\n  - 2:00 PM\\n  - 3:00 PM\\n  - 3:30 PM\\n  - 4:00 PM\\n  - 4:30 PM\\n\\nPlease let me know if you would like to book any of these available slots.', additional_kwargs={}, response_metadata={}, name='information_node', id='e884f6cd-3983-457a-81dd-9c6e72403cbc'), AIMessage(content='The available slots for a general dentist on 8th August 2024 do not include an 8 PM option. Here are the available slots:\\n\\n- **Emily Johnson:**\\n  - 8:00 AM\\n  - 8:30 AM\\n  - 10:00 AM\\n  - 10:30 AM\\n  - 11:00 AM\\n  - 11:30 AM\\n  - 12:00 PM\\n  - 12:30 PM\\n  - 1:30 PM\\n  - 2:30 PM\\n  - 3:30 PM\\n  - 4:30 PM\\n\\n- **John Doe:**\\n  - 8:00 AM\\n  - 9:00 AM\\n  - 9:30 AM\\n  - 10:00 AM\\n  - 12:00 PM\\n  - 1:30 PM\\n  - 2:00 PM\\n  - 3:00 PM\\n  - 3:30 PM\\n  - 4:00 PM\\n  - 4:30 PM\\n\\nPlease let me know if you would like to book any of these available slots.', additional_kwargs={}, response_metadata={}, name='booking_node', id='1b91ec38-4668-49c0-8771-c0982e3c2ada'), AIMessage(content='The available slots for a general dentist on 8th August 2024 do not include an 8 PM option. Here are the available slots:\\n\\n- **Emily Johnson:**\\n  - 8:00 AM\\n  - 8:30 AM\\n  - 10:00 AM\\n  - 10:30 AM\\n  - 11:00 AM\\n  - 11:30 AM\\n  - 12:00 PM\\n  - 12:30 PM\\n  - 1:30 PM\\n  - 2:30 PM\\n  - 3:30 PM\\n  - 4:30 PM\\n\\n- **John Doe:**\\n  - 8:00 AM\\n  - 9:00 AM\\n  - 9:30 AM\\n  - 10:00 AM\\n  - 12:00 PM\\n  - 1:30 PM\\n  - 2:00 PM\\n  - 3:00 PM\\n  - 3:30 PM\\n  - 4:00 PM\\n  - 4:30 PM\\n\\nPlease let me know if you would like to book any of these available slots.', additional_kwargs={}, response_metadata={}, name='booking_node', id='ea19e264-e2e9-4c69-aec1-b3c06031c30f')], 'id_number': 10232303, 'next': 'booking_node', 'query': 'can you check and make a booking if general dentist available on 8 August 2024 at 8 PM?', 'current_reasoning': \"The user is looking to book an appointment with a general dentist. Since the requested time is not available, I've provided alternative time slots. Now, the booking_node is needed to proceed with scheduling an appointment if the user chooses an available slot.\"}\n",
      "*****************called information node************\n",
      "**************************below is my state right after entering****************************\n",
      "{'messages': [HumanMessage(content='can you check and make a booking if general dentist available on 8 August 2024 at 8 PM?', additional_kwargs={}, response_metadata={}, id='baa3ff76-81db-41e1-9c8d-0573c6b83768'), HumanMessage(content=\"user's identification number is 10232303\", additional_kwargs={}, response_metadata={}, id='dcd8d44e-3528-4c11-922c-ed4be96acba5'), AIMessage(content='The available slots for a general dentist on 8th August 2024 do not include an 8 PM option. Here are the available slots:\\n\\n- **Emily Johnson:**\\n  - 8:00 AM\\n  - 8:30 AM\\n  - 10:00 AM\\n  - 10:30 AM\\n  - 11:00 AM\\n  - 11:30 AM\\n  - 12:00 PM\\n  - 12:30 PM\\n  - 1:30 PM\\n  - 2:30 PM\\n  - 3:30 PM\\n  - 4:30 PM\\n\\n- **John Doe:**\\n  - 8:00 AM\\n  - 9:00 AM\\n  - 9:30 AM\\n  - 10:00 AM\\n  - 12:00 PM\\n  - 1:30 PM\\n  - 2:00 PM\\n  - 3:00 PM\\n  - 3:30 PM\\n  - 4:00 PM\\n  - 4:30 PM\\n\\nPlease let me know if you would like to book any of these available slots.', additional_kwargs={}, response_metadata={}, name='information_node', id='5ff96335-d96b-40ad-b96f-035d02f5503f'), AIMessage(content='Would you like to book an available slot with either Emily Johnson or John Doe on 8th August 2024? Please let me know your preferred time.', additional_kwargs={}, response_metadata={}, name='booking_node', id='bdeffc3c-7ec5-4237-bcfa-51fe75178734'), AIMessage(content='I can check the availability for a general dentist on 8th August 2024 at 8 PM. Could you please confirm if you would like me to proceed with this?', additional_kwargs={}, response_metadata={}, name='information_node', id='f88f816c-4721-4cf8-a8ec-d602457eb58d'), AIMessage(content='The available slots for a general dentist on 8th August 2024 do not include an 8 PM option. Here are the available slots:\\n\\n- **Emily Johnson:**\\n  - 8:00 AM\\n  - 8:30 AM\\n  - 10:00 AM\\n  - 10:30 AM\\n  - 11:00 AM\\n  - 11:30 AM\\n  - 12:00 PM\\n  - 12:30 PM\\n  - 1:30 PM\\n  - 2:30 PM\\n  - 3:30 PM\\n  - 4:30 PM\\n\\n- **John Doe:**\\n  - 8:00 AM\\n  - 9:00 AM\\n  - 9:30 AM\\n  - 10:00 AM\\n  - 12:00 PM\\n  - 1:30 PM\\n  - 2:00 PM\\n  - 3:00 PM\\n  - 3:30 PM\\n  - 4:00 PM\\n  - 4:30 PM\\n\\nPlease let me know if you would like to book any of these available slots.', additional_kwargs={}, response_metadata={}, name='information_node', id='0c4d6c9d-c06d-4180-86e6-b696d585fb69'), AIMessage(content='The available slots for a general dentist on 8th August 2024 do not include an 8 PM option. Here are the available slots:\\n\\n- **Emily Johnson:**\\n  - 8:00 AM\\n  - 8:30 AM\\n  - 10:00 AM\\n  - 10:30 AM\\n  - 11:00 AM\\n  - 11:30 AM\\n  - 12:00 PM\\n  - 12:30 PM\\n  - 1:30 PM\\n  - 2:30 PM\\n  - 3:30 PM\\n  - 4:30 PM\\n\\n- **John Doe:**\\n  - 8:00 AM\\n  - 9:00 AM\\n  - 9:30 AM\\n  - 10:00 AM\\n  - 12:00 PM\\n  - 1:30 PM\\n  - 2:00 PM\\n  - 3:00 PM\\n  - 3:30 PM\\n  - 4:00 PM\\n  - 4:30 PM\\n\\nPlease let me know if you would like to book any of these available slots.', additional_kwargs={}, response_metadata={}, name='booking_node', id='696f2ec9-8cd0-4f3e-b0e5-c69a0177b727'), AIMessage(content='The available slots for a general dentist on 8th August 2024 do not include an 8 PM option. Here are the available slots:\\n\\n- **Emily Johnson:**\\n  - 8:00 AM\\n  - 8:30 AM\\n  - 10:00 AM\\n  - 10:30 AM\\n  - 11:00 AM\\n  - 11:30 AM\\n  - 12:00 PM\\n  - 12:30 PM\\n  - 1:30 PM\\n  - 2:30 PM\\n  - 3:30 PM\\n  - 4:30 PM\\n\\n- **John Doe:**\\n  - 8:00 AM\\n  - 9:00 AM\\n  - 9:30 AM\\n  - 10:00 AM\\n  - 12:00 PM\\n  - 1:30 PM\\n  - 2:00 PM\\n  - 3:00 PM\\n  - 3:30 PM\\n  - 4:00 PM\\n  - 4:30 PM\\n\\nPlease let me know if you would like to book any of these available slots.', additional_kwargs={}, response_metadata={}, name='information_node', id='e884f6cd-3983-457a-81dd-9c6e72403cbc'), AIMessage(content='The available slots for a general dentist on 8th August 2024 do not include an 8 PM option. Here are the available slots:\\n\\n- **Emily Johnson:**\\n  - 8:00 AM\\n  - 8:30 AM\\n  - 10:00 AM\\n  - 10:30 AM\\n  - 11:00 AM\\n  - 11:30 AM\\n  - 12:00 PM\\n  - 12:30 PM\\n  - 1:30 PM\\n  - 2:30 PM\\n  - 3:30 PM\\n  - 4:30 PM\\n\\n- **John Doe:**\\n  - 8:00 AM\\n  - 9:00 AM\\n  - 9:30 AM\\n  - 10:00 AM\\n  - 12:00 PM\\n  - 1:30 PM\\n  - 2:00 PM\\n  - 3:00 PM\\n  - 3:30 PM\\n  - 4:00 PM\\n  - 4:30 PM\\n\\nPlease let me know if you would like to book any of these available slots.', additional_kwargs={}, response_metadata={}, name='booking_node', id='1b91ec38-4668-49c0-8771-c0982e3c2ada'), AIMessage(content='The available slots for a general dentist on 8th August 2024 do not include an 8 PM option. Here are the available slots:\\n\\n- **Emily Johnson:**\\n  - 8:00 AM\\n  - 8:30 AM\\n  - 10:00 AM\\n  - 10:30 AM\\n  - 11:00 AM\\n  - 11:30 AM\\n  - 12:00 PM\\n  - 12:30 PM\\n  - 1:30 PM\\n  - 2:30 PM\\n  - 3:30 PM\\n  - 4:30 PM\\n\\n- **John Doe:**\\n  - 8:00 AM\\n  - 9:00 AM\\n  - 9:30 AM\\n  - 10:00 AM\\n  - 12:00 PM\\n  - 1:30 PM\\n  - 2:00 PM\\n  - 3:00 PM\\n  - 3:30 PM\\n  - 4:00 PM\\n  - 4:30 PM\\n\\nPlease let me know if you would like to book any of these available slots.', additional_kwargs={}, response_metadata={}, name='booking_node', id='ea19e264-e2e9-4c69-aec1-b3c06031c30f'), AIMessage(content='The available slots for a general dentist on 8th August 2024 do not include an 8 PM option. Here are the available slots:\\n\\n- **Emily Johnson:**\\n  - 8:00 AM\\n  - 8:30 AM\\n  - 10:00 AM\\n  - 10:30 AM\\n  - 11:00 AM\\n  - 11:30 AM\\n  - 12:00 PM\\n  - 12:30 PM\\n  - 1:30 PM\\n  - 2:30 PM\\n  - 3:30 PM\\n  - 4:30 PM\\n\\n- **John Doe:**\\n  - 8:00 AM\\n  - 9:00 AM\\n  - 9:30 AM\\n  - 10:00 AM\\n  - 12:00 PM\\n  - 1:30 PM\\n  - 2:00 PM\\n  - 3:00 PM\\n  - 3:30 PM\\n  - 4:00 PM\\n  - 4:30 PM\\n\\nPlease let me know if you would like to book any of these available slots.', additional_kwargs={}, response_metadata={}, name='information_node', id='748c4e9e-b02e-43db-8753-a8e844de79cd')], 'id_number': 10232303, 'next': 'information_node', 'query': 'can you check and make a booking if general dentist available on 8 August 2024 at 8 PM?', 'current_reasoning': 'The user is inquiring about the availability of a general dentist on a specific date and time. I will first check the availability of the general dentist for the requested date and time.'}\n",
      "***********************this is my message*****************************************\n",
      "[{'role': 'system', 'content': \"You are a supervisor tasked with managing a conversation between following workers. ### SPECIALIZED ASSISTANT:\\nWORKER: information_node \\nDESCRIPTION: specialized agent to provide information related to availability of doctors or any FAQs related to hospital.\\n\\nWORKER: booking_node \\nDESCRIPTION: specialized agent to only to book, cancel or reschedule appointment\\n\\nWORKER: FINISH \\nDESCRIPTION: If User Query is answered and route to Finished\\n\\nYour primary role is to help the user make an appointment with the doctor and provide updates on FAQs and doctor's availability. If a customer requests to know the availability of a doctor or to book, reschedule, or cancel an appointment, delegate the task to the appropriate specialized workers. Given the following user request, respond with the worker to act next. Each worker will perform a task and respond with their results and status. When finished, respond with FINISH.UTILIZE last conversation to assess if the conversation should end you answered the query, then route to FINISH \"}, {'role': 'user', 'content': \"user's identification number is 10232303\"}, HumanMessage(content='can you check and make a booking if general dentist available on 8 August 2024 at 8 PM?', additional_kwargs={}, response_metadata={}, id='baa3ff76-81db-41e1-9c8d-0573c6b83768'), HumanMessage(content=\"user's identification number is 10232303\", additional_kwargs={}, response_metadata={}, id='dcd8d44e-3528-4c11-922c-ed4be96acba5'), AIMessage(content='The available slots for a general dentist on 8th August 2024 do not include an 8 PM option. Here are the available slots:\\n\\n- **Emily Johnson:**\\n  - 8:00 AM\\n  - 8:30 AM\\n  - 10:00 AM\\n  - 10:30 AM\\n  - 11:00 AM\\n  - 11:30 AM\\n  - 12:00 PM\\n  - 12:30 PM\\n  - 1:30 PM\\n  - 2:30 PM\\n  - 3:30 PM\\n  - 4:30 PM\\n\\n- **John Doe:**\\n  - 8:00 AM\\n  - 9:00 AM\\n  - 9:30 AM\\n  - 10:00 AM\\n  - 12:00 PM\\n  - 1:30 PM\\n  - 2:00 PM\\n  - 3:00 PM\\n  - 3:30 PM\\n  - 4:00 PM\\n  - 4:30 PM\\n\\nPlease let me know if you would like to book any of these available slots.', additional_kwargs={}, response_metadata={}, name='information_node', id='5ff96335-d96b-40ad-b96f-035d02f5503f'), AIMessage(content='Would you like to book an available slot with either Emily Johnson or John Doe on 8th August 2024? Please let me know your preferred time.', additional_kwargs={}, response_metadata={}, name='booking_node', id='bdeffc3c-7ec5-4237-bcfa-51fe75178734'), AIMessage(content='I can check the availability for a general dentist on 8th August 2024 at 8 PM. Could you please confirm if you would like me to proceed with this?', additional_kwargs={}, response_metadata={}, name='information_node', id='f88f816c-4721-4cf8-a8ec-d602457eb58d'), AIMessage(content='The available slots for a general dentist on 8th August 2024 do not include an 8 PM option. Here are the available slots:\\n\\n- **Emily Johnson:**\\n  - 8:00 AM\\n  - 8:30 AM\\n  - 10:00 AM\\n  - 10:30 AM\\n  - 11:00 AM\\n  - 11:30 AM\\n  - 12:00 PM\\n  - 12:30 PM\\n  - 1:30 PM\\n  - 2:30 PM\\n  - 3:30 PM\\n  - 4:30 PM\\n\\n- **John Doe:**\\n  - 8:00 AM\\n  - 9:00 AM\\n  - 9:30 AM\\n  - 10:00 AM\\n  - 12:00 PM\\n  - 1:30 PM\\n  - 2:00 PM\\n  - 3:00 PM\\n  - 3:30 PM\\n  - 4:00 PM\\n  - 4:30 PM\\n\\nPlease let me know if you would like to book any of these available slots.', additional_kwargs={}, response_metadata={}, name='information_node', id='0c4d6c9d-c06d-4180-86e6-b696d585fb69'), AIMessage(content='The available slots for a general dentist on 8th August 2024 do not include an 8 PM option. Here are the available slots:\\n\\n- **Emily Johnson:**\\n  - 8:00 AM\\n  - 8:30 AM\\n  - 10:00 AM\\n  - 10:30 AM\\n  - 11:00 AM\\n  - 11:30 AM\\n  - 12:00 PM\\n  - 12:30 PM\\n  - 1:30 PM\\n  - 2:30 PM\\n  - 3:30 PM\\n  - 4:30 PM\\n\\n- **John Doe:**\\n  - 8:00 AM\\n  - 9:00 AM\\n  - 9:30 AM\\n  - 10:00 AM\\n  - 12:00 PM\\n  - 1:30 PM\\n  - 2:00 PM\\n  - 3:00 PM\\n  - 3:30 PM\\n  - 4:00 PM\\n  - 4:30 PM\\n\\nPlease let me know if you would like to book any of these available slots.', additional_kwargs={}, response_metadata={}, name='booking_node', id='696f2ec9-8cd0-4f3e-b0e5-c69a0177b727'), AIMessage(content='The available slots for a general dentist on 8th August 2024 do not include an 8 PM option. Here are the available slots:\\n\\n- **Emily Johnson:**\\n  - 8:00 AM\\n  - 8:30 AM\\n  - 10:00 AM\\n  - 10:30 AM\\n  - 11:00 AM\\n  - 11:30 AM\\n  - 12:00 PM\\n  - 12:30 PM\\n  - 1:30 PM\\n  - 2:30 PM\\n  - 3:30 PM\\n  - 4:30 PM\\n\\n- **John Doe:**\\n  - 8:00 AM\\n  - 9:00 AM\\n  - 9:30 AM\\n  - 10:00 AM\\n  - 12:00 PM\\n  - 1:30 PM\\n  - 2:00 PM\\n  - 3:00 PM\\n  - 3:30 PM\\n  - 4:00 PM\\n  - 4:30 PM\\n\\nPlease let me know if you would like to book any of these available slots.', additional_kwargs={}, response_metadata={}, name='information_node', id='e884f6cd-3983-457a-81dd-9c6e72403cbc'), AIMessage(content='The available slots for a general dentist on 8th August 2024 do not include an 8 PM option. Here are the available slots:\\n\\n- **Emily Johnson:**\\n  - 8:00 AM\\n  - 8:30 AM\\n  - 10:00 AM\\n  - 10:30 AM\\n  - 11:00 AM\\n  - 11:30 AM\\n  - 12:00 PM\\n  - 12:30 PM\\n  - 1:30 PM\\n  - 2:30 PM\\n  - 3:30 PM\\n  - 4:30 PM\\n\\n- **John Doe:**\\n  - 8:00 AM\\n  - 9:00 AM\\n  - 9:30 AM\\n  - 10:00 AM\\n  - 12:00 PM\\n  - 1:30 PM\\n  - 2:00 PM\\n  - 3:00 PM\\n  - 3:30 PM\\n  - 4:00 PM\\n  - 4:30 PM\\n\\nPlease let me know if you would like to book any of these available slots.', additional_kwargs={}, response_metadata={}, name='booking_node', id='1b91ec38-4668-49c0-8771-c0982e3c2ada'), AIMessage(content='The available slots for a general dentist on 8th August 2024 do not include an 8 PM option. Here are the available slots:\\n\\n- **Emily Johnson:**\\n  - 8:00 AM\\n  - 8:30 AM\\n  - 10:00 AM\\n  - 10:30 AM\\n  - 11:00 AM\\n  - 11:30 AM\\n  - 12:00 PM\\n  - 12:30 PM\\n  - 1:30 PM\\n  - 2:30 PM\\n  - 3:30 PM\\n  - 4:30 PM\\n\\n- **John Doe:**\\n  - 8:00 AM\\n  - 9:00 AM\\n  - 9:30 AM\\n  - 10:00 AM\\n  - 12:00 PM\\n  - 1:30 PM\\n  - 2:00 PM\\n  - 3:00 PM\\n  - 3:30 PM\\n  - 4:00 PM\\n  - 4:30 PM\\n\\nPlease let me know if you would like to book any of these available slots.', additional_kwargs={}, response_metadata={}, name='booking_node', id='ea19e264-e2e9-4c69-aec1-b3c06031c30f'), AIMessage(content='The available slots for a general dentist on 8th August 2024 do not include an 8 PM option. Here are the available slots:\\n\\n- **Emily Johnson:**\\n  - 8:00 AM\\n  - 8:30 AM\\n  - 10:00 AM\\n  - 10:30 AM\\n  - 11:00 AM\\n  - 11:30 AM\\n  - 12:00 PM\\n  - 12:30 PM\\n  - 1:30 PM\\n  - 2:30 PM\\n  - 3:30 PM\\n  - 4:30 PM\\n\\n- **John Doe:**\\n  - 8:00 AM\\n  - 9:00 AM\\n  - 9:30 AM\\n  - 10:00 AM\\n  - 12:00 PM\\n  - 1:30 PM\\n  - 2:00 PM\\n  - 3:00 PM\\n  - 3:30 PM\\n  - 4:00 PM\\n  - 4:30 PM\\n\\nPlease let me know if you would like to book any of these available slots.', additional_kwargs={}, response_metadata={}, name='information_node', id='748c4e9e-b02e-43db-8753-a8e844de79cd')]\n",
      "************below is my query********************\n",
      "\n",
      "********************************this is my goto*************************\n",
      "booking_node\n",
      "********************************\n",
      "The user asked to make a booking for a general dentist on 8th August 2024, and I have provided the available slots. The next step is to proceed with booking one of these slots if the user chooses one.\n",
      "**************************below is my state****************************\n",
      "{'messages': [HumanMessage(content='can you check and make a booking if general dentist available on 8 August 2024 at 8 PM?', additional_kwargs={}, response_metadata={}, id='baa3ff76-81db-41e1-9c8d-0573c6b83768'), HumanMessage(content=\"user's identification number is 10232303\", additional_kwargs={}, response_metadata={}, id='dcd8d44e-3528-4c11-922c-ed4be96acba5'), AIMessage(content='The available slots for a general dentist on 8th August 2024 do not include an 8 PM option. Here are the available slots:\\n\\n- **Emily Johnson:**\\n  - 8:00 AM\\n  - 8:30 AM\\n  - 10:00 AM\\n  - 10:30 AM\\n  - 11:00 AM\\n  - 11:30 AM\\n  - 12:00 PM\\n  - 12:30 PM\\n  - 1:30 PM\\n  - 2:30 PM\\n  - 3:30 PM\\n  - 4:30 PM\\n\\n- **John Doe:**\\n  - 8:00 AM\\n  - 9:00 AM\\n  - 9:30 AM\\n  - 10:00 AM\\n  - 12:00 PM\\n  - 1:30 PM\\n  - 2:00 PM\\n  - 3:00 PM\\n  - 3:30 PM\\n  - 4:00 PM\\n  - 4:30 PM\\n\\nPlease let me know if you would like to book any of these available slots.', additional_kwargs={}, response_metadata={}, name='information_node', id='5ff96335-d96b-40ad-b96f-035d02f5503f'), AIMessage(content='Would you like to book an available slot with either Emily Johnson or John Doe on 8th August 2024? Please let me know your preferred time.', additional_kwargs={}, response_metadata={}, name='booking_node', id='bdeffc3c-7ec5-4237-bcfa-51fe75178734'), AIMessage(content='I can check the availability for a general dentist on 8th August 2024 at 8 PM. Could you please confirm if you would like me to proceed with this?', additional_kwargs={}, response_metadata={}, name='information_node', id='f88f816c-4721-4cf8-a8ec-d602457eb58d'), AIMessage(content='The available slots for a general dentist on 8th August 2024 do not include an 8 PM option. Here are the available slots:\\n\\n- **Emily Johnson:**\\n  - 8:00 AM\\n  - 8:30 AM\\n  - 10:00 AM\\n  - 10:30 AM\\n  - 11:00 AM\\n  - 11:30 AM\\n  - 12:00 PM\\n  - 12:30 PM\\n  - 1:30 PM\\n  - 2:30 PM\\n  - 3:30 PM\\n  - 4:30 PM\\n\\n- **John Doe:**\\n  - 8:00 AM\\n  - 9:00 AM\\n  - 9:30 AM\\n  - 10:00 AM\\n  - 12:00 PM\\n  - 1:30 PM\\n  - 2:00 PM\\n  - 3:00 PM\\n  - 3:30 PM\\n  - 4:00 PM\\n  - 4:30 PM\\n\\nPlease let me know if you would like to book any of these available slots.', additional_kwargs={}, response_metadata={}, name='information_node', id='0c4d6c9d-c06d-4180-86e6-b696d585fb69'), AIMessage(content='The available slots for a general dentist on 8th August 2024 do not include an 8 PM option. Here are the available slots:\\n\\n- **Emily Johnson:**\\n  - 8:00 AM\\n  - 8:30 AM\\n  - 10:00 AM\\n  - 10:30 AM\\n  - 11:00 AM\\n  - 11:30 AM\\n  - 12:00 PM\\n  - 12:30 PM\\n  - 1:30 PM\\n  - 2:30 PM\\n  - 3:30 PM\\n  - 4:30 PM\\n\\n- **John Doe:**\\n  - 8:00 AM\\n  - 9:00 AM\\n  - 9:30 AM\\n  - 10:00 AM\\n  - 12:00 PM\\n  - 1:30 PM\\n  - 2:00 PM\\n  - 3:00 PM\\n  - 3:30 PM\\n  - 4:00 PM\\n  - 4:30 PM\\n\\nPlease let me know if you would like to book any of these available slots.', additional_kwargs={}, response_metadata={}, name='booking_node', id='696f2ec9-8cd0-4f3e-b0e5-c69a0177b727'), AIMessage(content='The available slots for a general dentist on 8th August 2024 do not include an 8 PM option. Here are the available slots:\\n\\n- **Emily Johnson:**\\n  - 8:00 AM\\n  - 8:30 AM\\n  - 10:00 AM\\n  - 10:30 AM\\n  - 11:00 AM\\n  - 11:30 AM\\n  - 12:00 PM\\n  - 12:30 PM\\n  - 1:30 PM\\n  - 2:30 PM\\n  - 3:30 PM\\n  - 4:30 PM\\n\\n- **John Doe:**\\n  - 8:00 AM\\n  - 9:00 AM\\n  - 9:30 AM\\n  - 10:00 AM\\n  - 12:00 PM\\n  - 1:30 PM\\n  - 2:00 PM\\n  - 3:00 PM\\n  - 3:30 PM\\n  - 4:00 PM\\n  - 4:30 PM\\n\\nPlease let me know if you would like to book any of these available slots.', additional_kwargs={}, response_metadata={}, name='information_node', id='e884f6cd-3983-457a-81dd-9c6e72403cbc'), AIMessage(content='The available slots for a general dentist on 8th August 2024 do not include an 8 PM option. Here are the available slots:\\n\\n- **Emily Johnson:**\\n  - 8:00 AM\\n  - 8:30 AM\\n  - 10:00 AM\\n  - 10:30 AM\\n  - 11:00 AM\\n  - 11:30 AM\\n  - 12:00 PM\\n  - 12:30 PM\\n  - 1:30 PM\\n  - 2:30 PM\\n  - 3:30 PM\\n  - 4:30 PM\\n\\n- **John Doe:**\\n  - 8:00 AM\\n  - 9:00 AM\\n  - 9:30 AM\\n  - 10:00 AM\\n  - 12:00 PM\\n  - 1:30 PM\\n  - 2:00 PM\\n  - 3:00 PM\\n  - 3:30 PM\\n  - 4:00 PM\\n  - 4:30 PM\\n\\nPlease let me know if you would like to book any of these available slots.', additional_kwargs={}, response_metadata={}, name='booking_node', id='1b91ec38-4668-49c0-8771-c0982e3c2ada'), AIMessage(content='The available slots for a general dentist on 8th August 2024 do not include an 8 PM option. Here are the available slots:\\n\\n- **Emily Johnson:**\\n  - 8:00 AM\\n  - 8:30 AM\\n  - 10:00 AM\\n  - 10:30 AM\\n  - 11:00 AM\\n  - 11:30 AM\\n  - 12:00 PM\\n  - 12:30 PM\\n  - 1:30 PM\\n  - 2:30 PM\\n  - 3:30 PM\\n  - 4:30 PM\\n\\n- **John Doe:**\\n  - 8:00 AM\\n  - 9:00 AM\\n  - 9:30 AM\\n  - 10:00 AM\\n  - 12:00 PM\\n  - 1:30 PM\\n  - 2:00 PM\\n  - 3:00 PM\\n  - 3:30 PM\\n  - 4:00 PM\\n  - 4:30 PM\\n\\nPlease let me know if you would like to book any of these available slots.', additional_kwargs={}, response_metadata={}, name='booking_node', id='ea19e264-e2e9-4c69-aec1-b3c06031c30f'), AIMessage(content='The available slots for a general dentist on 8th August 2024 do not include an 8 PM option. Here are the available slots:\\n\\n- **Emily Johnson:**\\n  - 8:00 AM\\n  - 8:30 AM\\n  - 10:00 AM\\n  - 10:30 AM\\n  - 11:00 AM\\n  - 11:30 AM\\n  - 12:00 PM\\n  - 12:30 PM\\n  - 1:30 PM\\n  - 2:30 PM\\n  - 3:30 PM\\n  - 4:30 PM\\n\\n- **John Doe:**\\n  - 8:00 AM\\n  - 9:00 AM\\n  - 9:30 AM\\n  - 10:00 AM\\n  - 12:00 PM\\n  - 1:30 PM\\n  - 2:00 PM\\n  - 3:00 PM\\n  - 3:30 PM\\n  - 4:00 PM\\n  - 4:30 PM\\n\\nPlease let me know if you would like to book any of these available slots.', additional_kwargs={}, response_metadata={}, name='information_node', id='748c4e9e-b02e-43db-8753-a8e844de79cd')], 'id_number': 10232303, 'next': 'information_node', 'query': 'can you check and make a booking if general dentist available on 8 August 2024 at 8 PM?', 'current_reasoning': 'The user is inquiring about the availability of a general dentist on a specific date and time. I will first check the availability of the general dentist for the requested date and time.'}\n"
     ]
    },
    {
     "ename": "GraphRecursionError",
     "evalue": "Recursion limit of 20 reached without hitting a stop condition. You can increase the limit by setting the `recursion_limit` config key.\nFor troubleshooting, visit: https://python.langchain.com/docs/troubleshooting/errors/GRAPH_RECURSION_LIMIT",
     "output_type": "error",
     "traceback": [
      "\u001b[0;31m---------------------------------------------------------------------------\u001b[0m",
      "\u001b[0;31mGraphRecursionError\u001b[0m                       Traceback (most recent call last)",
      "Cell \u001b[0;32mIn[47], line 1\u001b[0m\n\u001b[0;32m----> 1\u001b[0m result \u001b[38;5;241m=\u001b[39m \u001b[43mapp\u001b[49m\u001b[38;5;241;43m.\u001b[39;49m\u001b[43minvoke\u001b[49m\u001b[43m(\u001b[49m\u001b[43mstate\u001b[49m\u001b[43m,\u001b[49m\u001b[43m{\u001b[49m\u001b[38;5;124;43m\"\u001b[39;49m\u001b[38;5;124;43mrecursion_limit\u001b[39;49m\u001b[38;5;124;43m\"\u001b[39;49m\u001b[43m:\u001b[49m\u001b[43m \u001b[49m\u001b[38;5;241;43m20\u001b[39;49m\u001b[43m}\u001b[49m\u001b[43m)\u001b[49m\n",
      "File \u001b[0;32m/opt/anaconda3/envs/langgraph_agents/lib/python3.12/site-packages/langgraph/pregel/__init__.py:2069\u001b[0m, in \u001b[0;36mPregel.invoke\u001b[0;34m(self, input, config, stream_mode, output_keys, interrupt_before, interrupt_after, debug, **kwargs)\u001b[0m\n\u001b[1;32m   2067\u001b[0m \u001b[38;5;28;01melse\u001b[39;00m:\n\u001b[1;32m   2068\u001b[0m     chunks \u001b[38;5;241m=\u001b[39m []\n\u001b[0;32m-> 2069\u001b[0m \u001b[43m\u001b[49m\u001b[38;5;28;43;01mfor\u001b[39;49;00m\u001b[43m \u001b[49m\u001b[43mchunk\u001b[49m\u001b[43m \u001b[49m\u001b[38;5;129;43;01min\u001b[39;49;00m\u001b[43m \u001b[49m\u001b[38;5;28;43mself\u001b[39;49m\u001b[38;5;241;43m.\u001b[39;49m\u001b[43mstream\u001b[49m\u001b[43m(\u001b[49m\n\u001b[1;32m   2070\u001b[0m \u001b[43m    \u001b[49m\u001b[38;5;28;43minput\u001b[39;49m\u001b[43m,\u001b[49m\n\u001b[1;32m   2071\u001b[0m \u001b[43m    \u001b[49m\u001b[43mconfig\u001b[49m\u001b[43m,\u001b[49m\n\u001b[1;32m   2072\u001b[0m \u001b[43m    \u001b[49m\u001b[43mstream_mode\u001b[49m\u001b[38;5;241;43m=\u001b[39;49m\u001b[43mstream_mode\u001b[49m\u001b[43m,\u001b[49m\n\u001b[1;32m   2073\u001b[0m \u001b[43m    \u001b[49m\u001b[43moutput_keys\u001b[49m\u001b[38;5;241;43m=\u001b[39;49m\u001b[43moutput_keys\u001b[49m\u001b[43m,\u001b[49m\n\u001b[1;32m   2074\u001b[0m \u001b[43m    \u001b[49m\u001b[43minterrupt_before\u001b[49m\u001b[38;5;241;43m=\u001b[39;49m\u001b[43minterrupt_before\u001b[49m\u001b[43m,\u001b[49m\n\u001b[1;32m   2075\u001b[0m \u001b[43m    \u001b[49m\u001b[43minterrupt_after\u001b[49m\u001b[38;5;241;43m=\u001b[39;49m\u001b[43minterrupt_after\u001b[49m\u001b[43m,\u001b[49m\n\u001b[1;32m   2076\u001b[0m \u001b[43m    \u001b[49m\u001b[43mdebug\u001b[49m\u001b[38;5;241;43m=\u001b[39;49m\u001b[43mdebug\u001b[49m\u001b[43m,\u001b[49m\n\u001b[1;32m   2077\u001b[0m \u001b[43m    \u001b[49m\u001b[38;5;241;43m*\u001b[39;49m\u001b[38;5;241;43m*\u001b[39;49m\u001b[43mkwargs\u001b[49m\u001b[43m,\u001b[49m\n\u001b[1;32m   2078\u001b[0m \u001b[43m\u001b[49m\u001b[43m)\u001b[49m\u001b[43m:\u001b[49m\n\u001b[1;32m   2079\u001b[0m \u001b[43m    \u001b[49m\u001b[38;5;28;43;01mif\u001b[39;49;00m\u001b[43m \u001b[49m\u001b[43mstream_mode\u001b[49m\u001b[43m \u001b[49m\u001b[38;5;241;43m==\u001b[39;49m\u001b[43m \u001b[49m\u001b[38;5;124;43m\"\u001b[39;49m\u001b[38;5;124;43mvalues\u001b[39;49m\u001b[38;5;124;43m\"\u001b[39;49m\u001b[43m:\u001b[49m\n\u001b[1;32m   2080\u001b[0m \u001b[43m        \u001b[49m\u001b[43mlatest\u001b[49m\u001b[43m \u001b[49m\u001b[38;5;241;43m=\u001b[39;49m\u001b[43m \u001b[49m\u001b[43mchunk\u001b[49m\n",
      "File \u001b[0;32m/opt/anaconda3/envs/langgraph_agents/lib/python3.12/site-packages/langgraph/pregel/__init__.py:1744\u001b[0m, in \u001b[0;36mPregel.stream\u001b[0;34m(self, input, config, stream_mode, output_keys, interrupt_before, interrupt_after, debug, subgraphs)\u001b[0m\n\u001b[1;32m   1735\u001b[0m \u001b[38;5;28;01mif\u001b[39;00m loop\u001b[38;5;241m.\u001b[39mstatus \u001b[38;5;241m==\u001b[39m \u001b[38;5;124m\"\u001b[39m\u001b[38;5;124mout_of_steps\u001b[39m\u001b[38;5;124m\"\u001b[39m:\n\u001b[1;32m   1736\u001b[0m     msg \u001b[38;5;241m=\u001b[39m create_error_message(\n\u001b[1;32m   1737\u001b[0m         message\u001b[38;5;241m=\u001b[39m(\n\u001b[1;32m   1738\u001b[0m             \u001b[38;5;124mf\u001b[39m\u001b[38;5;124m\"\u001b[39m\u001b[38;5;124mRecursion limit of \u001b[39m\u001b[38;5;132;01m{\u001b[39;00mconfig[\u001b[38;5;124m'\u001b[39m\u001b[38;5;124mrecursion_limit\u001b[39m\u001b[38;5;124m'\u001b[39m]\u001b[38;5;132;01m}\u001b[39;00m\u001b[38;5;124m reached \u001b[39m\u001b[38;5;124m\"\u001b[39m\n\u001b[0;32m   (...)\u001b[0m\n\u001b[1;32m   1742\u001b[0m         error_code\u001b[38;5;241m=\u001b[39mErrorCode\u001b[38;5;241m.\u001b[39mGRAPH_RECURSION_LIMIT,\n\u001b[1;32m   1743\u001b[0m     )\n\u001b[0;32m-> 1744\u001b[0m     \u001b[38;5;28;01mraise\u001b[39;00m GraphRecursionError(msg)\n\u001b[1;32m   1745\u001b[0m \u001b[38;5;66;03m# set final channel values as run output\u001b[39;00m\n\u001b[1;32m   1746\u001b[0m run_manager\u001b[38;5;241m.\u001b[39mon_chain_end(loop\u001b[38;5;241m.\u001b[39moutput)\n",
      "\u001b[0;31mGraphRecursionError\u001b[0m: Recursion limit of 20 reached without hitting a stop condition. You can increase the limit by setting the `recursion_limit` config key.\nFor troubleshooting, visit: https://python.langchain.com/docs/troubleshooting/errors/GRAPH_RECURSION_LIMIT"
     ]
    }
   ],
   "source": [
    "result = app.invoke(state,{\"recursion_limit\": 20})"
   ]
  },
  {
   "cell_type": "code",
   "execution_count": null,
   "metadata": {},
   "outputs": [
    {
     "data": {
      "text/plain": [
       "HumanMessage(content=\"user's identification number is 10232303\", additional_kwargs={}, response_metadata={}, id='285b8f16-1feb-4fbf-89af-02ab87a1ab87')"
      ]
     },
     "execution_count": 48,
     "metadata": {},
     "output_type": "execute_result"
    }
   ],
   "source": [
    "result['messages'][-1]"
   ]
  },
  {
   "cell_type": "code",
   "execution_count": null,
   "metadata": {},
   "outputs": [],
   "source": [
    "#Please book an appointment if general dentist available on 8 August 2024 at 8 PM\n",
    "\n",
    "#Please book an appointment with Emily Johnson on 08-08-2024 at 4:30 PM\n"
   ]
  }
 ],
 "metadata": {
  "kernelspec": {
   "display_name": "langgraph_agents",
   "language": "python",
   "name": "python3"
  },
  "language_info": {
   "codemirror_mode": {
    "name": "ipython",
    "version": 3
   },
   "file_extension": ".py",
   "mimetype": "text/x-python",
   "name": "python",
   "nbconvert_exporter": "python",
   "pygments_lexer": "ipython3",
   "version": "3.12.9"
  }
 },
 "nbformat": 4,
 "nbformat_minor": 2
}
